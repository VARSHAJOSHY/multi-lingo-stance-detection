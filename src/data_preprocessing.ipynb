{
  "cells": [
    {
      "cell_type": "code",
      "execution_count": null,
      "metadata": {
        "id": "_yXWGaFtwjPY"
      },
      "outputs": [],
      "source": [
        "#set a seed so that if the script is kept consistent, the result will always be the same. \n",
        "torch.manual_seed(0)\n",
        "random.seed(0)\n",
        "np.random.seed(0)\n",
        "torch.backends.cudnn.deterministic = True\n",
        "torch.backends.cudnn.benchmark = False"
      ]
    },
    {
      "cell_type": "code",
      "execution_count": null,
      "metadata": {
        "colab": {
          "base_uri": "https://localhost:8080/"
        },
        "id": "0B39CVL72cbY",
        "outputId": "8bc85617-ae3c-4474-efde-4b43387e0f58"
      },
      "outputs": [
        {
          "output_type": "stream",
          "name": "stdout",
          "text": [
            "There are 1 GPU(s) available.\n",
            "We will use the GPU: Tesla T4\n"
          ]
        }
      ],
      "source": [
        "# If GPU available...\n",
        "if torch.cuda.is_available():   \n",
        "    torch.cuda.empty_cache() #clearing the cache \n",
        "    # use the GPU.   \n",
        "    device = torch.device(\"cuda\")\n",
        "    print('There are %d GPU(s) available.' % torch.cuda.device_count())\n",
        "    print('We will use the GPU:', torch.cuda.get_device_name(0))\n",
        "\n",
        "# If GPU not available\n",
        "else:\n",
        "    print('GPU not available, using the CPU instead.')\n",
        "    device = torch.device(\"cpu\")"
      ]
    },
    {
      "cell_type": "code",
      "execution_count": null,
      "metadata": {
        "id": "O4Jw7nf4vxd4"
      },
      "outputs": [],
      "source": [
        "dataset= {\"labels\" : ['AGAINST','FAVOR','NEUTRAL'],\n",
        "          \"label_count\": 3}\n",
        "\n",
        "dataset1 = {\n",
        "    \"name\":\"E-USA\",\n",
        "    \"train_path\":\"data/E-USA/train.csv\",\n",
        "    \"test_path\":\"data/E-USA/test.csv\",\n",
        "    \"labels\":['AGAINST','FAVOR','NEUTRAL']\n",
        "}\n",
        "\n",
        "dataset2 = {\n",
        "    \"name\":\"R-CAT\",\n",
        "    \"train_path_sp\":\"data/R-CAT/spanish_train.csv\",\n",
        "    \"train_path_ca\":\"data/R-CAT/catalan_train.csv\",\n",
        "    \"val_path_sp\":\"data/R-CAT/spanish_val.csv\",\n",
        "    \"val_path_ca\":\"data/R-CAT/catalan_val.csv\",\n",
        "    \"test_path_sp\":\"data/R-CAT/spanish_test.csv\",\n",
        "    \"test_path_ca\":\"data/R-CAT/catalan_test.csv\",\n",
        "    \"labels\":['AGAINST','FAVOR','NEUTRAL']\n",
        "}\n",
        "\n",
        "dataset3 = {\n",
        "    \"name\": \"E-FRA\",\n",
        "    \"lepen_path\":\"data/E-FRA/lepen_fr.csv\",\n",
        "    \"macron_path\":\"data/E-FRA/macron_fr.csv\",\n",
        "    \"labels\" : ['AGAINST','FAVOR','NEUTRAL']\n",
        "}\n",
        "\n",
        "dataset4 = {\n",
        "    \"name\": \"R-ITA\",\n",
        "    \"path\":\"data/R-ITA/referendum_it.csv\",\n",
        "    \"labels\" : ['AGAINST','FAVOR','NEUTRAL']\n",
        "}"
      ]
    },
    {
      "cell_type": "code",
      "execution_count": null,
      "metadata": {
        "id": "PaU5BgyQxl-g"
      },
      "outputs": [],
      "source": [
        "def read_dataset1():\n",
        "    train = pd.read_csv(dataset1['train_path'], encoding = 'unicode_escape')\n",
        "    train['Language']='EN'\n",
        "    test = pd.read_csv(dataset1['test_path'], encoding = 'unicode_escape')\n",
        "    test['Language']='EN'\n",
        "\n",
        "    data = [train,test]\n",
        "    data = pd.concat(data)\n",
        "    data = data.loc[(data['Target']=='Hillary Clinton') | (data['Target']=='Donald Trump')]\n",
        "    data['Type'] = 'Election'\n",
        "    data.loc[data['Stance']=='NONE', 'Stance']='NEUTRAL'\n",
        "    data.drop('Opinion Towards', inplace=True, axis=1)\n",
        "    data.drop('Sentiment', inplace=True, axis=1) \n",
        "    return data\n",
        "\n",
        "\n",
        "def read_dataset2():\n",
        "    spanish_train = pd.read_csv(dataset2['train_path_sp'], \n",
        "                            dtype={'id_str': 'str'}, sep='\\t', encoding=\"utf-8\")\n",
        "    spanish_train['Language']='SP'\n",
        "    catalan_train = pd.read_csv(dataset2['train_path_ca'], \n",
        "                            dtype={'id_str': 'str'}, sep='\\t', encoding=\"utf-8\")\n",
        "    catalan_train['Language']='CA'\n",
        "    spanish_val = pd.read_csv(dataset2['val_path_sp'], \n",
        "                            dtype={'id_str': 'str'}, sep='\\t', encoding=\"utf-8\")\n",
        "    spanish_val['Language']='SP'\n",
        "    catalan_val = pd.read_csv(dataset2['val_path_ca'], \n",
        "                            dtype={'id_str': 'str'}, sep='\\t', encoding=\"utf-8\")\n",
        "    catalan_val['Language']='CA'\n",
        "    spanish_test = pd.read_csv(dataset2['test_path_sp'], \n",
        "                            dtype={'id_str': 'str'}, sep='\\t', encoding=\"utf-8\")\n",
        "    spanish_test['Language']='SP'\n",
        "    catalan_test = pd.read_csv(dataset2['test_path_ca'], \n",
        "                            dtype={'id_str': 'str'}, sep='\\t', encoding=\"utf-8\")\n",
        "    catalan_test['Language']='CA'\n",
        "\n",
        "    data = [spanish_train,catalan_train,spanish_val,catalan_val,spanish_test,catalan_test]\n",
        "    data = pd.concat(data)\n",
        "    data['Type'] = 'Referendum'\n",
        "    data['Target'] = 'Catalonian Independence'\n",
        "    data.drop('id_str', inplace=True, axis=1)\n",
        "    data = data.rename(columns={'TWEET': 'Tweet', 'LABEL': 'Stance'})\n",
        "    data = data.sample(frac=1).reset_index(drop=True)\n",
        "\n",
        "    data_tmp = data.loc[(data['Stance']=='AGAINST') & (data['Language']=='SP')].head(2231)\n",
        "    data_tmp = data_tmp.append(data.loc[(data['Stance']=='NEUTRAL') & (data['Language']=='SP')].head(1215))\n",
        "    data_tmp = data_tmp.append(data.loc[(data['Stance']=='FAVOR') & (data['Language']=='SP')].head(2099))\n",
        "    data_tmp = data_tmp.append(data.loc[(data['Stance']=='AGAINST') & (data['Language']=='CA')].head(149))\n",
        "    data_tmp = data_tmp.append(data.loc[(data['Stance']=='NEUTRAL') & (data['Language']=='CA')].head(598))\n",
        "    data_tmp = data_tmp.append(data.loc[(data['Stance']=='FAVOR') & (data['Language']=='CA')].head(5106))\n",
        "    return data_tmp\n",
        "\n",
        "def read_dataset3():\n",
        "    fr_lepen = pd.read_csv(dataset3['lepen_path'])\n",
        "    fr_lepen['Language']='FR'\n",
        "    fr_lepen['Target'] = 'Marine Le Pen'\n",
        "\n",
        "    fr_macron = pd.read_csv(dataset3['macron_path'])\n",
        "    fr_macron['Language']='FR'\n",
        "    fr_macron['Target'] = 'Emmanuel Macron'\n",
        "\n",
        "    data = [fr_lepen,fr_macron]\n",
        "    data = pd.concat(data)\n",
        "    data['Type'] = 'Election'\n",
        "    data.drop('id', inplace=True, axis=1)\n",
        "    data.drop('Set', inplace=True, axis=1)\n",
        "    data.drop('screen_name', inplace=True, axis=1)\n",
        "    data.drop('user_id', inplace=True, axis=1)\n",
        "    data.drop('date', inplace=True, axis=1)\n",
        "    data.drop('POS', inplace=True, axis=1)\n",
        "    data.drop('POSplus', inplace=True, axis=1)\n",
        "    data.drop('textplus', inplace=True, axis=1)\n",
        "    data.loc[data['Stance']=='agains', 'Stance']='AGAINST'\n",
        "    data.loc[data['Stance']=='favor', 'Stance']='FAVOR'\n",
        "    data.loc[data['Stance']=='FAVOUR', 'Stance']='FAVOR'\n",
        "    data.loc[data['Stance']=='NONE', 'Stance']='NEUTRAL'\n",
        "    return data\n",
        "\n",
        "def read_dataset4():\n",
        "    data = pd.read_csv(dataset4['path'])\n",
        "    data['Language']='IT'\n",
        "    data['Type'] = 'Referendum'\n",
        "    data['Target'] = 'Constitutional Reform'\n",
        "    data.drop('id', inplace=True, axis=1)\n",
        "    data.drop('Set', inplace=True, axis=1)\n",
        "    data.drop('screen_name', inplace=True, axis=1)\n",
        "    data.drop('user_id', inplace=True, axis=1)\n",
        "    data.drop('date', inplace=True, axis=1)\n",
        "    data.drop('POS', inplace=True, axis=1)\n",
        "    data.drop('POSplus', inplace=True, axis=1)\n",
        "    data.drop('textplus', inplace=True, axis=1)\n",
        "    data.loc[data['Stance']=='agains', 'Stance']='AGAINST'\n",
        "    data.loc[data['Stance']=='favor', 'Stance']='FAVOR'\n",
        "    data.loc[data['Stance']=='none', 'Stance']='NEUTRAL'\n",
        "    return data"
      ]
    },
    {
      "cell_type": "code",
      "execution_count": null,
      "metadata": {
        "id": "1CfldarpxJ8C"
      },
      "outputs": [],
      "source": [
        "data1 = read_dataset1()\n",
        "data2 = read_dataset2()\n",
        "data3 = read_dataset3()\n",
        "data4 = read_dataset4()\n",
        "\n",
        "frames = [data1,data2,data3,data4]\n",
        "data = pd.concat(frames)"
      ]
    },
    {
      "cell_type": "code",
      "execution_count": null,
      "metadata": {
        "colab": {
          "base_uri": "https://localhost:8080/",
          "height": 274
        },
        "id": "5o8BdAke4mov",
        "outputId": "c230f006-1814-4525-8cb1-a4850dd09e8d"
      },
      "outputs": [
        {
          "output_type": "stream",
          "name": "stdout",
          "text": [
            "total number of records 13834\n",
            "Stance bifurcation Counter({'FAVOR': 6631, 'AGAINST': 4504, 'NEUTRAL': 2699})\n"
          ]
        },
        {
          "output_type": "execute_result",
          "data": {
            "text/plain": [
              "                    Target  AGAINST  FAVOR  NEUTRAL\n",
              "0  Catalonian Independence     2380   6001     1813\n",
              "1    Constitutional Reform      486    163      184\n",
              "2             Donald Trump      299    148      260\n",
              "3          Emmanuel Macron      308     91      131\n",
              "4          Hillary Clinton      565    163      256\n",
              "5            Marine Le Pen      466     65       55"
            ],
            "text/html": [
              "\n",
              "  <div id=\"df-e24348fc-f9e7-4587-bcf0-05b7d4e9ef8f\">\n",
              "    <div class=\"colab-df-container\">\n",
              "      <div>\n",
              "<style scoped>\n",
              "    .dataframe tbody tr th:only-of-type {\n",
              "        vertical-align: middle;\n",
              "    }\n",
              "\n",
              "    .dataframe tbody tr th {\n",
              "        vertical-align: top;\n",
              "    }\n",
              "\n",
              "    .dataframe thead th {\n",
              "        text-align: right;\n",
              "    }\n",
              "</style>\n",
              "<table border=\"1\" class=\"dataframe\">\n",
              "  <thead>\n",
              "    <tr style=\"text-align: right;\">\n",
              "      <th></th>\n",
              "      <th>Target</th>\n",
              "      <th>AGAINST</th>\n",
              "      <th>FAVOR</th>\n",
              "      <th>NEUTRAL</th>\n",
              "    </tr>\n",
              "  </thead>\n",
              "  <tbody>\n",
              "    <tr>\n",
              "      <th>0</th>\n",
              "      <td>Catalonian Independence</td>\n",
              "      <td>2380</td>\n",
              "      <td>6001</td>\n",
              "      <td>1813</td>\n",
              "    </tr>\n",
              "    <tr>\n",
              "      <th>1</th>\n",
              "      <td>Constitutional Reform</td>\n",
              "      <td>486</td>\n",
              "      <td>163</td>\n",
              "      <td>184</td>\n",
              "    </tr>\n",
              "    <tr>\n",
              "      <th>2</th>\n",
              "      <td>Donald Trump</td>\n",
              "      <td>299</td>\n",
              "      <td>148</td>\n",
              "      <td>260</td>\n",
              "    </tr>\n",
              "    <tr>\n",
              "      <th>3</th>\n",
              "      <td>Emmanuel Macron</td>\n",
              "      <td>308</td>\n",
              "      <td>91</td>\n",
              "      <td>131</td>\n",
              "    </tr>\n",
              "    <tr>\n",
              "      <th>4</th>\n",
              "      <td>Hillary Clinton</td>\n",
              "      <td>565</td>\n",
              "      <td>163</td>\n",
              "      <td>256</td>\n",
              "    </tr>\n",
              "    <tr>\n",
              "      <th>5</th>\n",
              "      <td>Marine Le Pen</td>\n",
              "      <td>466</td>\n",
              "      <td>65</td>\n",
              "      <td>55</td>\n",
              "    </tr>\n",
              "  </tbody>\n",
              "</table>\n",
              "</div>\n",
              "      <button class=\"colab-df-convert\" onclick=\"convertToInteractive('df-e24348fc-f9e7-4587-bcf0-05b7d4e9ef8f')\"\n",
              "              title=\"Convert this dataframe to an interactive table.\"\n",
              "              style=\"display:none;\">\n",
              "        \n",
              "  <svg xmlns=\"http://www.w3.org/2000/svg\" height=\"24px\"viewBox=\"0 0 24 24\"\n",
              "       width=\"24px\">\n",
              "    <path d=\"M0 0h24v24H0V0z\" fill=\"none\"/>\n",
              "    <path d=\"M18.56 5.44l.94 2.06.94-2.06 2.06-.94-2.06-.94-.94-2.06-.94 2.06-2.06.94zm-11 1L8.5 8.5l.94-2.06 2.06-.94-2.06-.94L8.5 2.5l-.94 2.06-2.06.94zm10 10l.94 2.06.94-2.06 2.06-.94-2.06-.94-.94-2.06-.94 2.06-2.06.94z\"/><path d=\"M17.41 7.96l-1.37-1.37c-.4-.4-.92-.59-1.43-.59-.52 0-1.04.2-1.43.59L10.3 9.45l-7.72 7.72c-.78.78-.78 2.05 0 2.83L4 21.41c.39.39.9.59 1.41.59.51 0 1.02-.2 1.41-.59l7.78-7.78 2.81-2.81c.8-.78.8-2.07 0-2.86zM5.41 20L4 18.59l7.72-7.72 1.47 1.35L5.41 20z\"/>\n",
              "  </svg>\n",
              "      </button>\n",
              "      \n",
              "  <style>\n",
              "    .colab-df-container {\n",
              "      display:flex;\n",
              "      flex-wrap:wrap;\n",
              "      gap: 12px;\n",
              "    }\n",
              "\n",
              "    .colab-df-convert {\n",
              "      background-color: #E8F0FE;\n",
              "      border: none;\n",
              "      border-radius: 50%;\n",
              "      cursor: pointer;\n",
              "      display: none;\n",
              "      fill: #1967D2;\n",
              "      height: 32px;\n",
              "      padding: 0 0 0 0;\n",
              "      width: 32px;\n",
              "    }\n",
              "\n",
              "    .colab-df-convert:hover {\n",
              "      background-color: #E2EBFA;\n",
              "      box-shadow: 0px 1px 2px rgba(60, 64, 67, 0.3), 0px 1px 3px 1px rgba(60, 64, 67, 0.15);\n",
              "      fill: #174EA6;\n",
              "    }\n",
              "\n",
              "    [theme=dark] .colab-df-convert {\n",
              "      background-color: #3B4455;\n",
              "      fill: #D2E3FC;\n",
              "    }\n",
              "\n",
              "    [theme=dark] .colab-df-convert:hover {\n",
              "      background-color: #434B5C;\n",
              "      box-shadow: 0px 1px 3px 1px rgba(0, 0, 0, 0.15);\n",
              "      filter: drop-shadow(0px 1px 2px rgba(0, 0, 0, 0.3));\n",
              "      fill: #FFFFFF;\n",
              "    }\n",
              "  </style>\n",
              "\n",
              "      <script>\n",
              "        const buttonEl =\n",
              "          document.querySelector('#df-e24348fc-f9e7-4587-bcf0-05b7d4e9ef8f button.colab-df-convert');\n",
              "        buttonEl.style.display =\n",
              "          google.colab.kernel.accessAllowed ? 'block' : 'none';\n",
              "\n",
              "        async function convertToInteractive(key) {\n",
              "          const element = document.querySelector('#df-e24348fc-f9e7-4587-bcf0-05b7d4e9ef8f');\n",
              "          const dataTable =\n",
              "            await google.colab.kernel.invokeFunction('convertToInteractive',\n",
              "                                                     [key], {});\n",
              "          if (!dataTable) return;\n",
              "\n",
              "          const docLinkHtml = 'Like what you see? Visit the ' +\n",
              "            '<a target=\"_blank\" href=https://colab.research.google.com/notebooks/data_table.ipynb>data table notebook</a>'\n",
              "            + ' to learn more about interactive tables.';\n",
              "          element.innerHTML = '';\n",
              "          dataTable['output_type'] = 'display_data';\n",
              "          await google.colab.output.renderOutput(dataTable, element);\n",
              "          const docLink = document.createElement('div');\n",
              "          docLink.innerHTML = docLinkHtml;\n",
              "          element.appendChild(docLink);\n",
              "        }\n",
              "      </script>\n",
              "    </div>\n",
              "  </div>\n",
              "  "
            ]
          },
          "metadata": {},
          "execution_count": 15
        }
      ],
      "source": [
        "print('total number of records', len(data))\n",
        "data_label = collections.Counter(data['Stance'])\n",
        "print('Stance bifurcation', data_label)\n",
        "\n",
        "data_frq1 = data.groupby(['Target','Stance']).size().reset_index()\n",
        "data_frq1=data_frq1.rename(columns={0:'Count'})\n",
        "\n",
        "data_frq1= pd.pivot_table(data=data_frq1 , index=['Target'], columns=['Stance'],values=['Count'])\n",
        "data_frq1.reset_index(inplace=True)\n",
        "data_frq1.columns =['Target','AGAINST','FAVOR','NEUTRAL']\n",
        "data_frq1"
      ]
    },
    {
      "cell_type": "code",
      "execution_count": null,
      "metadata": {
        "colab": {
          "base_uri": "https://localhost:8080/",
          "height": 305
        },
        "id": "pyuOqGpG6Udo",
        "outputId": "10373bee-31a6-4163-c8ee-2bd610da876c"
      },
      "outputs": [
        {
          "output_type": "stream",
          "name": "stdout",
          "text": [
            "total number of records 13834\n",
            "Stance bifurcation Counter({'FAVOR': 6631, 'AGAINST': 4504, 'NEUTRAL': 2699})\n"
          ]
        },
        {
          "output_type": "execute_result",
          "data": {
            "text/plain": [
              "                    Target Language  AGAINST  FAVOR  NEUTRAL\n",
              "0  Catalonian Independence       CA      149   3902      598\n",
              "1  Catalonian Independence       SP     2231   2099     1215\n",
              "2    Constitutional Reform       IT      486    163      184\n",
              "3             Donald Trump       EN      299    148      260\n",
              "4          Emmanuel Macron       FR      308     91      131\n",
              "5          Hillary Clinton       EN      565    163      256\n",
              "6            Marine Le Pen       FR      466     65       55"
            ],
            "text/html": [
              "\n",
              "  <div id=\"df-8857d8a0-2c86-4bfa-a79b-9a784081ec82\">\n",
              "    <div class=\"colab-df-container\">\n",
              "      <div>\n",
              "<style scoped>\n",
              "    .dataframe tbody tr th:only-of-type {\n",
              "        vertical-align: middle;\n",
              "    }\n",
              "\n",
              "    .dataframe tbody tr th {\n",
              "        vertical-align: top;\n",
              "    }\n",
              "\n",
              "    .dataframe thead th {\n",
              "        text-align: right;\n",
              "    }\n",
              "</style>\n",
              "<table border=\"1\" class=\"dataframe\">\n",
              "  <thead>\n",
              "    <tr style=\"text-align: right;\">\n",
              "      <th></th>\n",
              "      <th>Target</th>\n",
              "      <th>Language</th>\n",
              "      <th>AGAINST</th>\n",
              "      <th>FAVOR</th>\n",
              "      <th>NEUTRAL</th>\n",
              "    </tr>\n",
              "  </thead>\n",
              "  <tbody>\n",
              "    <tr>\n",
              "      <th>0</th>\n",
              "      <td>Catalonian Independence</td>\n",
              "      <td>CA</td>\n",
              "      <td>149</td>\n",
              "      <td>3902</td>\n",
              "      <td>598</td>\n",
              "    </tr>\n",
              "    <tr>\n",
              "      <th>1</th>\n",
              "      <td>Catalonian Independence</td>\n",
              "      <td>SP</td>\n",
              "      <td>2231</td>\n",
              "      <td>2099</td>\n",
              "      <td>1215</td>\n",
              "    </tr>\n",
              "    <tr>\n",
              "      <th>2</th>\n",
              "      <td>Constitutional Reform</td>\n",
              "      <td>IT</td>\n",
              "      <td>486</td>\n",
              "      <td>163</td>\n",
              "      <td>184</td>\n",
              "    </tr>\n",
              "    <tr>\n",
              "      <th>3</th>\n",
              "      <td>Donald Trump</td>\n",
              "      <td>EN</td>\n",
              "      <td>299</td>\n",
              "      <td>148</td>\n",
              "      <td>260</td>\n",
              "    </tr>\n",
              "    <tr>\n",
              "      <th>4</th>\n",
              "      <td>Emmanuel Macron</td>\n",
              "      <td>FR</td>\n",
              "      <td>308</td>\n",
              "      <td>91</td>\n",
              "      <td>131</td>\n",
              "    </tr>\n",
              "    <tr>\n",
              "      <th>5</th>\n",
              "      <td>Hillary Clinton</td>\n",
              "      <td>EN</td>\n",
              "      <td>565</td>\n",
              "      <td>163</td>\n",
              "      <td>256</td>\n",
              "    </tr>\n",
              "    <tr>\n",
              "      <th>6</th>\n",
              "      <td>Marine Le Pen</td>\n",
              "      <td>FR</td>\n",
              "      <td>466</td>\n",
              "      <td>65</td>\n",
              "      <td>55</td>\n",
              "    </tr>\n",
              "  </tbody>\n",
              "</table>\n",
              "</div>\n",
              "      <button class=\"colab-df-convert\" onclick=\"convertToInteractive('df-8857d8a0-2c86-4bfa-a79b-9a784081ec82')\"\n",
              "              title=\"Convert this dataframe to an interactive table.\"\n",
              "              style=\"display:none;\">\n",
              "        \n",
              "  <svg xmlns=\"http://www.w3.org/2000/svg\" height=\"24px\"viewBox=\"0 0 24 24\"\n",
              "       width=\"24px\">\n",
              "    <path d=\"M0 0h24v24H0V0z\" fill=\"none\"/>\n",
              "    <path d=\"M18.56 5.44l.94 2.06.94-2.06 2.06-.94-2.06-.94-.94-2.06-.94 2.06-2.06.94zm-11 1L8.5 8.5l.94-2.06 2.06-.94-2.06-.94L8.5 2.5l-.94 2.06-2.06.94zm10 10l.94 2.06.94-2.06 2.06-.94-2.06-.94-.94-2.06-.94 2.06-2.06.94z\"/><path d=\"M17.41 7.96l-1.37-1.37c-.4-.4-.92-.59-1.43-.59-.52 0-1.04.2-1.43.59L10.3 9.45l-7.72 7.72c-.78.78-.78 2.05 0 2.83L4 21.41c.39.39.9.59 1.41.59.51 0 1.02-.2 1.41-.59l7.78-7.78 2.81-2.81c.8-.78.8-2.07 0-2.86zM5.41 20L4 18.59l7.72-7.72 1.47 1.35L5.41 20z\"/>\n",
              "  </svg>\n",
              "      </button>\n",
              "      \n",
              "  <style>\n",
              "    .colab-df-container {\n",
              "      display:flex;\n",
              "      flex-wrap:wrap;\n",
              "      gap: 12px;\n",
              "    }\n",
              "\n",
              "    .colab-df-convert {\n",
              "      background-color: #E8F0FE;\n",
              "      border: none;\n",
              "      border-radius: 50%;\n",
              "      cursor: pointer;\n",
              "      display: none;\n",
              "      fill: #1967D2;\n",
              "      height: 32px;\n",
              "      padding: 0 0 0 0;\n",
              "      width: 32px;\n",
              "    }\n",
              "\n",
              "    .colab-df-convert:hover {\n",
              "      background-color: #E2EBFA;\n",
              "      box-shadow: 0px 1px 2px rgba(60, 64, 67, 0.3), 0px 1px 3px 1px rgba(60, 64, 67, 0.15);\n",
              "      fill: #174EA6;\n",
              "    }\n",
              "\n",
              "    [theme=dark] .colab-df-convert {\n",
              "      background-color: #3B4455;\n",
              "      fill: #D2E3FC;\n",
              "    }\n",
              "\n",
              "    [theme=dark] .colab-df-convert:hover {\n",
              "      background-color: #434B5C;\n",
              "      box-shadow: 0px 1px 3px 1px rgba(0, 0, 0, 0.15);\n",
              "      filter: drop-shadow(0px 1px 2px rgba(0, 0, 0, 0.3));\n",
              "      fill: #FFFFFF;\n",
              "    }\n",
              "  </style>\n",
              "\n",
              "      <script>\n",
              "        const buttonEl =\n",
              "          document.querySelector('#df-8857d8a0-2c86-4bfa-a79b-9a784081ec82 button.colab-df-convert');\n",
              "        buttonEl.style.display =\n",
              "          google.colab.kernel.accessAllowed ? 'block' : 'none';\n",
              "\n",
              "        async function convertToInteractive(key) {\n",
              "          const element = document.querySelector('#df-8857d8a0-2c86-4bfa-a79b-9a784081ec82');\n",
              "          const dataTable =\n",
              "            await google.colab.kernel.invokeFunction('convertToInteractive',\n",
              "                                                     [key], {});\n",
              "          if (!dataTable) return;\n",
              "\n",
              "          const docLinkHtml = 'Like what you see? Visit the ' +\n",
              "            '<a target=\"_blank\" href=https://colab.research.google.com/notebooks/data_table.ipynb>data table notebook</a>'\n",
              "            + ' to learn more about interactive tables.';\n",
              "          element.innerHTML = '';\n",
              "          dataTable['output_type'] = 'display_data';\n",
              "          await google.colab.output.renderOutput(dataTable, element);\n",
              "          const docLink = document.createElement('div');\n",
              "          docLink.innerHTML = docLinkHtml;\n",
              "          element.appendChild(docLink);\n",
              "        }\n",
              "      </script>\n",
              "    </div>\n",
              "  </div>\n",
              "  "
            ]
          },
          "metadata": {},
          "execution_count": 16
        }
      ],
      "source": [
        "print('total number of records', len(data))\n",
        "data_label = collections.Counter(data['Stance'])\n",
        "print('Stance bifurcation', data_label)\n",
        "\n",
        "data_frq2 = data.groupby(['Target','Language','Stance']).size().reset_index()\n",
        "data_frq2=data_frq2.rename(columns={0:'Count'})\n",
        "\n",
        "data_frq2= pd.pivot_table(data=data_frq2 , index=['Target','Language'], columns=['Stance'],values=['Count'])\n",
        "data_frq2.reset_index(inplace=True)\n",
        "data_frq2.columns =['Target','Language','AGAINST','FAVOR','NEUTRAL']\n",
        "data_frq2"
      ]
    },
    {
      "cell_type": "code",
      "execution_count": null,
      "metadata": {
        "colab": {
          "base_uri": "https://localhost:8080/",
          "height": 243
        },
        "id": "DCy_LXUkCnuG",
        "outputId": "74221d19-7680-4868-be6a-1dd23b86fa74"
      },
      "outputs": [
        {
          "output_type": "stream",
          "name": "stdout",
          "text": [
            "total number of records 13834\n",
            "Stance bifurcation Counter({'SP': 5545, 'CA': 4649, 'EN': 1691, 'FR': 1116, 'IT': 833})\n"
          ]
        },
        {
          "output_type": "execute_result",
          "data": {
            "text/plain": [
              "  Language  Count\n",
              "0       CA   4649\n",
              "1       EN   1691\n",
              "2       FR   1116\n",
              "3       IT    833\n",
              "4       SP   5545"
            ],
            "text/html": [
              "\n",
              "  <div id=\"df-43cc5a0c-c39d-4b3c-be20-e38349f8d080\">\n",
              "    <div class=\"colab-df-container\">\n",
              "      <div>\n",
              "<style scoped>\n",
              "    .dataframe tbody tr th:only-of-type {\n",
              "        vertical-align: middle;\n",
              "    }\n",
              "\n",
              "    .dataframe tbody tr th {\n",
              "        vertical-align: top;\n",
              "    }\n",
              "\n",
              "    .dataframe thead th {\n",
              "        text-align: right;\n",
              "    }\n",
              "</style>\n",
              "<table border=\"1\" class=\"dataframe\">\n",
              "  <thead>\n",
              "    <tr style=\"text-align: right;\">\n",
              "      <th></th>\n",
              "      <th>Language</th>\n",
              "      <th>Count</th>\n",
              "    </tr>\n",
              "  </thead>\n",
              "  <tbody>\n",
              "    <tr>\n",
              "      <th>0</th>\n",
              "      <td>CA</td>\n",
              "      <td>4649</td>\n",
              "    </tr>\n",
              "    <tr>\n",
              "      <th>1</th>\n",
              "      <td>EN</td>\n",
              "      <td>1691</td>\n",
              "    </tr>\n",
              "    <tr>\n",
              "      <th>2</th>\n",
              "      <td>FR</td>\n",
              "      <td>1116</td>\n",
              "    </tr>\n",
              "    <tr>\n",
              "      <th>3</th>\n",
              "      <td>IT</td>\n",
              "      <td>833</td>\n",
              "    </tr>\n",
              "    <tr>\n",
              "      <th>4</th>\n",
              "      <td>SP</td>\n",
              "      <td>5545</td>\n",
              "    </tr>\n",
              "  </tbody>\n",
              "</table>\n",
              "</div>\n",
              "      <button class=\"colab-df-convert\" onclick=\"convertToInteractive('df-43cc5a0c-c39d-4b3c-be20-e38349f8d080')\"\n",
              "              title=\"Convert this dataframe to an interactive table.\"\n",
              "              style=\"display:none;\">\n",
              "        \n",
              "  <svg xmlns=\"http://www.w3.org/2000/svg\" height=\"24px\"viewBox=\"0 0 24 24\"\n",
              "       width=\"24px\">\n",
              "    <path d=\"M0 0h24v24H0V0z\" fill=\"none\"/>\n",
              "    <path d=\"M18.56 5.44l.94 2.06.94-2.06 2.06-.94-2.06-.94-.94-2.06-.94 2.06-2.06.94zm-11 1L8.5 8.5l.94-2.06 2.06-.94-2.06-.94L8.5 2.5l-.94 2.06-2.06.94zm10 10l.94 2.06.94-2.06 2.06-.94-2.06-.94-.94-2.06-.94 2.06-2.06.94z\"/><path d=\"M17.41 7.96l-1.37-1.37c-.4-.4-.92-.59-1.43-.59-.52 0-1.04.2-1.43.59L10.3 9.45l-7.72 7.72c-.78.78-.78 2.05 0 2.83L4 21.41c.39.39.9.59 1.41.59.51 0 1.02-.2 1.41-.59l7.78-7.78 2.81-2.81c.8-.78.8-2.07 0-2.86zM5.41 20L4 18.59l7.72-7.72 1.47 1.35L5.41 20z\"/>\n",
              "  </svg>\n",
              "      </button>\n",
              "      \n",
              "  <style>\n",
              "    .colab-df-container {\n",
              "      display:flex;\n",
              "      flex-wrap:wrap;\n",
              "      gap: 12px;\n",
              "    }\n",
              "\n",
              "    .colab-df-convert {\n",
              "      background-color: #E8F0FE;\n",
              "      border: none;\n",
              "      border-radius: 50%;\n",
              "      cursor: pointer;\n",
              "      display: none;\n",
              "      fill: #1967D2;\n",
              "      height: 32px;\n",
              "      padding: 0 0 0 0;\n",
              "      width: 32px;\n",
              "    }\n",
              "\n",
              "    .colab-df-convert:hover {\n",
              "      background-color: #E2EBFA;\n",
              "      box-shadow: 0px 1px 2px rgba(60, 64, 67, 0.3), 0px 1px 3px 1px rgba(60, 64, 67, 0.15);\n",
              "      fill: #174EA6;\n",
              "    }\n",
              "\n",
              "    [theme=dark] .colab-df-convert {\n",
              "      background-color: #3B4455;\n",
              "      fill: #D2E3FC;\n",
              "    }\n",
              "\n",
              "    [theme=dark] .colab-df-convert:hover {\n",
              "      background-color: #434B5C;\n",
              "      box-shadow: 0px 1px 3px 1px rgba(0, 0, 0, 0.15);\n",
              "      filter: drop-shadow(0px 1px 2px rgba(0, 0, 0, 0.3));\n",
              "      fill: #FFFFFF;\n",
              "    }\n",
              "  </style>\n",
              "\n",
              "      <script>\n",
              "        const buttonEl =\n",
              "          document.querySelector('#df-43cc5a0c-c39d-4b3c-be20-e38349f8d080 button.colab-df-convert');\n",
              "        buttonEl.style.display =\n",
              "          google.colab.kernel.accessAllowed ? 'block' : 'none';\n",
              "\n",
              "        async function convertToInteractive(key) {\n",
              "          const element = document.querySelector('#df-43cc5a0c-c39d-4b3c-be20-e38349f8d080');\n",
              "          const dataTable =\n",
              "            await google.colab.kernel.invokeFunction('convertToInteractive',\n",
              "                                                     [key], {});\n",
              "          if (!dataTable) return;\n",
              "\n",
              "          const docLinkHtml = 'Like what you see? Visit the ' +\n",
              "            '<a target=\"_blank\" href=https://colab.research.google.com/notebooks/data_table.ipynb>data table notebook</a>'\n",
              "            + ' to learn more about interactive tables.';\n",
              "          element.innerHTML = '';\n",
              "          dataTable['output_type'] = 'display_data';\n",
              "          await google.colab.output.renderOutput(dataTable, element);\n",
              "          const docLink = document.createElement('div');\n",
              "          docLink.innerHTML = docLinkHtml;\n",
              "          element.appendChild(docLink);\n",
              "        }\n",
              "      </script>\n",
              "    </div>\n",
              "  </div>\n",
              "  "
            ]
          },
          "metadata": {},
          "execution_count": 17
        }
      ],
      "source": [
        "print('total number of records', len(data))\n",
        "data_label = collections.Counter(data['Language'])\n",
        "print('Stance bifurcation', data_label)\n",
        "\n",
        "data_frq2 = data.groupby(['Language']).size().reset_index()\n",
        "data_frq2=data_frq2.rename(columns={0:'Count'})\n",
        "data_frq2"
      ]
    },
    {
      "cell_type": "code",
      "execution_count": null,
      "metadata": {
        "colab": {
          "base_uri": "https://localhost:8080/",
          "height": 243
        },
        "id": "IXdW20Rb6qxj",
        "outputId": "766a696a-e35f-4098-af87-e470f8cb45ac"
      },
      "outputs": [
        {
          "output_type": "stream",
          "name": "stdout",
          "text": [
            "total number of records 13834\n",
            "Stance bifurcation Counter({'FAVOR': 6631, 'AGAINST': 4504, 'NEUTRAL': 2699})\n"
          ]
        },
        {
          "output_type": "execute_result",
          "data": {
            "text/plain": [
              "  Language  AGAINST  FAVOR  NEUTRAL\n",
              "0       CA      149   3902      598\n",
              "1       EN      864    311      516\n",
              "2       FR      774    156      186\n",
              "3       IT      486    163      184\n",
              "4       SP     2231   2099     1215"
            ],
            "text/html": [
              "\n",
              "  <div id=\"df-f6971052-d9eb-4230-9c34-3148c8734304\">\n",
              "    <div class=\"colab-df-container\">\n",
              "      <div>\n",
              "<style scoped>\n",
              "    .dataframe tbody tr th:only-of-type {\n",
              "        vertical-align: middle;\n",
              "    }\n",
              "\n",
              "    .dataframe tbody tr th {\n",
              "        vertical-align: top;\n",
              "    }\n",
              "\n",
              "    .dataframe thead th {\n",
              "        text-align: right;\n",
              "    }\n",
              "</style>\n",
              "<table border=\"1\" class=\"dataframe\">\n",
              "  <thead>\n",
              "    <tr style=\"text-align: right;\">\n",
              "      <th></th>\n",
              "      <th>Language</th>\n",
              "      <th>AGAINST</th>\n",
              "      <th>FAVOR</th>\n",
              "      <th>NEUTRAL</th>\n",
              "    </tr>\n",
              "  </thead>\n",
              "  <tbody>\n",
              "    <tr>\n",
              "      <th>0</th>\n",
              "      <td>CA</td>\n",
              "      <td>149</td>\n",
              "      <td>3902</td>\n",
              "      <td>598</td>\n",
              "    </tr>\n",
              "    <tr>\n",
              "      <th>1</th>\n",
              "      <td>EN</td>\n",
              "      <td>864</td>\n",
              "      <td>311</td>\n",
              "      <td>516</td>\n",
              "    </tr>\n",
              "    <tr>\n",
              "      <th>2</th>\n",
              "      <td>FR</td>\n",
              "      <td>774</td>\n",
              "      <td>156</td>\n",
              "      <td>186</td>\n",
              "    </tr>\n",
              "    <tr>\n",
              "      <th>3</th>\n",
              "      <td>IT</td>\n",
              "      <td>486</td>\n",
              "      <td>163</td>\n",
              "      <td>184</td>\n",
              "    </tr>\n",
              "    <tr>\n",
              "      <th>4</th>\n",
              "      <td>SP</td>\n",
              "      <td>2231</td>\n",
              "      <td>2099</td>\n",
              "      <td>1215</td>\n",
              "    </tr>\n",
              "  </tbody>\n",
              "</table>\n",
              "</div>\n",
              "      <button class=\"colab-df-convert\" onclick=\"convertToInteractive('df-f6971052-d9eb-4230-9c34-3148c8734304')\"\n",
              "              title=\"Convert this dataframe to an interactive table.\"\n",
              "              style=\"display:none;\">\n",
              "        \n",
              "  <svg xmlns=\"http://www.w3.org/2000/svg\" height=\"24px\"viewBox=\"0 0 24 24\"\n",
              "       width=\"24px\">\n",
              "    <path d=\"M0 0h24v24H0V0z\" fill=\"none\"/>\n",
              "    <path d=\"M18.56 5.44l.94 2.06.94-2.06 2.06-.94-2.06-.94-.94-2.06-.94 2.06-2.06.94zm-11 1L8.5 8.5l.94-2.06 2.06-.94-2.06-.94L8.5 2.5l-.94 2.06-2.06.94zm10 10l.94 2.06.94-2.06 2.06-.94-2.06-.94-.94-2.06-.94 2.06-2.06.94z\"/><path d=\"M17.41 7.96l-1.37-1.37c-.4-.4-.92-.59-1.43-.59-.52 0-1.04.2-1.43.59L10.3 9.45l-7.72 7.72c-.78.78-.78 2.05 0 2.83L4 21.41c.39.39.9.59 1.41.59.51 0 1.02-.2 1.41-.59l7.78-7.78 2.81-2.81c.8-.78.8-2.07 0-2.86zM5.41 20L4 18.59l7.72-7.72 1.47 1.35L5.41 20z\"/>\n",
              "  </svg>\n",
              "      </button>\n",
              "      \n",
              "  <style>\n",
              "    .colab-df-container {\n",
              "      display:flex;\n",
              "      flex-wrap:wrap;\n",
              "      gap: 12px;\n",
              "    }\n",
              "\n",
              "    .colab-df-convert {\n",
              "      background-color: #E8F0FE;\n",
              "      border: none;\n",
              "      border-radius: 50%;\n",
              "      cursor: pointer;\n",
              "      display: none;\n",
              "      fill: #1967D2;\n",
              "      height: 32px;\n",
              "      padding: 0 0 0 0;\n",
              "      width: 32px;\n",
              "    }\n",
              "\n",
              "    .colab-df-convert:hover {\n",
              "      background-color: #E2EBFA;\n",
              "      box-shadow: 0px 1px 2px rgba(60, 64, 67, 0.3), 0px 1px 3px 1px rgba(60, 64, 67, 0.15);\n",
              "      fill: #174EA6;\n",
              "    }\n",
              "\n",
              "    [theme=dark] .colab-df-convert {\n",
              "      background-color: #3B4455;\n",
              "      fill: #D2E3FC;\n",
              "    }\n",
              "\n",
              "    [theme=dark] .colab-df-convert:hover {\n",
              "      background-color: #434B5C;\n",
              "      box-shadow: 0px 1px 3px 1px rgba(0, 0, 0, 0.15);\n",
              "      filter: drop-shadow(0px 1px 2px rgba(0, 0, 0, 0.3));\n",
              "      fill: #FFFFFF;\n",
              "    }\n",
              "  </style>\n",
              "\n",
              "      <script>\n",
              "        const buttonEl =\n",
              "          document.querySelector('#df-f6971052-d9eb-4230-9c34-3148c8734304 button.colab-df-convert');\n",
              "        buttonEl.style.display =\n",
              "          google.colab.kernel.accessAllowed ? 'block' : 'none';\n",
              "\n",
              "        async function convertToInteractive(key) {\n",
              "          const element = document.querySelector('#df-f6971052-d9eb-4230-9c34-3148c8734304');\n",
              "          const dataTable =\n",
              "            await google.colab.kernel.invokeFunction('convertToInteractive',\n",
              "                                                     [key], {});\n",
              "          if (!dataTable) return;\n",
              "\n",
              "          const docLinkHtml = 'Like what you see? Visit the ' +\n",
              "            '<a target=\"_blank\" href=https://colab.research.google.com/notebooks/data_table.ipynb>data table notebook</a>'\n",
              "            + ' to learn more about interactive tables.';\n",
              "          element.innerHTML = '';\n",
              "          dataTable['output_type'] = 'display_data';\n",
              "          await google.colab.output.renderOutput(dataTable, element);\n",
              "          const docLink = document.createElement('div');\n",
              "          docLink.innerHTML = docLinkHtml;\n",
              "          element.appendChild(docLink);\n",
              "        }\n",
              "      </script>\n",
              "    </div>\n",
              "  </div>\n",
              "  "
            ]
          },
          "metadata": {},
          "execution_count": 18
        }
      ],
      "source": [
        "print('total number of records', len(data))\n",
        "data_label = collections.Counter(data['Stance'])\n",
        "print('Stance bifurcation', data_label)\n",
        "\n",
        "data_frq3 = data.groupby(['Language','Stance']).size().reset_index()\n",
        "data_frq3=data_frq3.rename(columns={0:'Count'})\n",
        "\n",
        "data_frq3= pd.pivot_table(data=data_frq3 , index=['Language'], columns=['Stance'],values=['Count'])\n",
        "data_frq3.reset_index(inplace=True)\n",
        "data_frq3.columns =['Language','AGAINST','FAVOR','NEUTRAL']\n",
        "data_frq3"
      ]
    },
    {
      "cell_type": "code",
      "execution_count": null,
      "metadata": {
        "colab": {
          "base_uri": "https://localhost:8080/",
          "height": 467
        },
        "id": "ukgLmLwO5GiD",
        "outputId": "0ab10a62-4177-488b-c219-be1ff6265f5c"
      },
      "outputs": [
        {
          "output_type": "display_data",
          "data": {
            "text/plain": [
              "<Figure size 1440x360 with 3 Axes>"
            ],
            "image/png": "[encoded data removed]"
          },
          "metadata": {
            "needs_background": "light"
          }
        }
      ],
      "source": [
        "fig, axes = plt.subplots(1,3, figsize=(20,5))\n",
        "\n",
        "data_frq1.plot(x='Target', y=['AGAINST','FAVOR','NEUTRAL'], kind='bar', ax=axes[0], title='Target wise')\n",
        "data_frq2.plot(x='Language', kind='bar', ax=axes[1], title='Language wise', color='black')\n",
        "data_frq3.plot(x='Language', y=['AGAINST','FAVOR','NEUTRAL'], kind='bar', ax=axes[2], title='Language-Stance wise')\n",
        "axes[1].tick_params(axis='x', labelrotation=360)\n",
        "axes[2].tick_params(axis='x', labelrotation=360)"
      ]
    },
    {
      "cell_type": "code",
      "execution_count": null,
      "metadata": {
        "colab": {
          "base_uri": "https://localhost:8080/",
          "height": 467
        },
        "id": "nJBO3jrdIfRN",
        "outputId": "c83b0f1c-7592-469e-eab7-4aa63a7ca725"
      },
      "outputs": [
        {
          "output_type": "display_data",
          "data": {
            "text/plain": [
              "<Figure size 1440x360 with 2 Axes>"
            ],
            "image/png": "[encoded data removed]"
          },
          "metadata": {
            "needs_background": "light"
          }
        }
      ],
      "source": [
        "fig, axes = plt.subplots(1,2, figsize=(20,5))\n",
        "\n",
        "data_frq1.plot(x='Target', y=['AGAINST','FAVOR','NEUTRAL'], kind='bar', ax=axes[0], title='Target wise')\n",
        "data_frq3.plot(x='Language', y=['AGAINST','FAVOR','NEUTRAL'], kind='bar', ax=axes[1], title='Language-Stance wise')\n",
        "axes[1].tick_params(axis='x', labelrotation=360)"
      ]
    },
    {
      "cell_type": "code",
      "execution_count": null,
      "metadata": {
        "colab": {
          "base_uri": "https://localhost:8080/",
          "height": 569
        },
        "id": "zv0BN3pUMBB8",
        "outputId": "3efed54c-18e7-4a99-ff84-24a996eacbf1"
      },
      "outputs": [
        {
          "output_type": "stream",
          "name": "stdout",
          "text": [
            "total number of records 1691\n",
            "Stance bifurcation Counter({'AGAINST': 864, 'NEUTRAL': 516, 'FAVOR': 311})\n",
            "            Target Language  AGAINST  FAVOR  NEUTRAL\n",
            "0     Donald Trump       EN      299    148      260\n",
            "1  Hillary Clinton       EN      565    163      256\n",
            "\n",
            "\n",
            "total number of records 1691\n",
            "Stance bifurcation Counter({'AGAINST': 864, 'NEUTRAL': 516, 'FAVOR': 311})\n",
            "            Target  AGAINST  FAVOR  NEUTRAL\n",
            "0     Donald Trump      299    148      260\n",
            "1  Hillary Clinton      565    163      256\n",
            "\n",
            "\n"
          ]
        },
        {
          "output_type": "execute_result",
          "data": {
            "text/plain": [
              "(array([0, 1]), <a list of 2 Text major ticklabel objects>)"
            ]
          },
          "metadata": {},
          "execution_count": 21
        },
        {
          "output_type": "display_data",
          "data": {
            "text/plain": [
              "<Figure size 432x288 with 1 Axes>"
            ],
            "image/png": "[encoded data removed]"
          },
          "metadata": {
            "needs_background": "light"
          }
        }
      ],
      "source": [
        "print('total number of records', len(data1))\n",
        "data_label = collections.Counter(data1['Stance'])\n",
        "print('Stance bifurcation', data_label)\n",
        "\n",
        "data_frq2 = data1.groupby(['Target','Language','Stance']).size().reset_index()\n",
        "data_frq2=data_frq2.rename(columns={0:'Count'})\n",
        "\n",
        "data_frq2= pd.pivot_table(data=data_frq2 , index=['Target','Language'], columns=['Stance'],values=['Count'])\n",
        "data_frq2.reset_index(inplace=True)\n",
        "data_frq2.columns =['Target','Language','AGAINST','FAVOR','NEUTRAL']\n",
        "print(data_frq2)\n",
        "\n",
        "print(\"\\n\")\n",
        "\n",
        "print('total number of records', len(data1))\n",
        "data_label = collections.Counter(data1['Stance'])\n",
        "print('Stance bifurcation', data_label)\n",
        "\n",
        "data_frq2 = data1.groupby(['Target','Stance']).size().reset_index()\n",
        "data_frq2=data_frq2.rename(columns={0:'Count'})\n",
        "\n",
        "data_frq2= pd.pivot_table(data=data_frq2 , index=['Target'], columns=['Stance'],values=['Count'])\n",
        "data_frq2.reset_index(inplace=True)\n",
        "data_frq2.columns =['Target','AGAINST','FAVOR','NEUTRAL']\n",
        "print(data_frq2)\n",
        "\n",
        "print(\"\\n\")\n",
        "\n",
        "data_frq2.plot(x='Target', y=['AGAINST','FAVOR','NEUTRAL'], kind='bar',title='E-USA: Target wise')\n",
        "plt.xticks(rotation=360)"
      ]
    },
    {
      "cell_type": "code",
      "execution_count": null,
      "metadata": {
        "colab": {
          "base_uri": "https://localhost:8080/",
          "height": 423
        },
        "id": "RBxpY420xQq4",
        "outputId": "f8885d2b-ea9f-4783-d431-658d89f48dd2"
      },
      "outputs": [
        {
          "output_type": "stream",
          "name": "stdout",
          "text": [
            "total number of records 1691\n",
            "Stance bifurcation Counter({'AGAINST': 864, 'NEUTRAL': 516, 'FAVOR': 311})\n",
            "  Language  AGAINST  FAVOR  NEUTRAL\n",
            "0       EN      864    311      516\n",
            "\n",
            "\n"
          ]
        },
        {
          "output_type": "execute_result",
          "data": {
            "text/plain": [
              "(array([0]), <a list of 1 Text major ticklabel objects>)"
            ]
          },
          "metadata": {},
          "execution_count": 22
        },
        {
          "output_type": "display_data",
          "data": {
            "text/plain": [
              "<Figure size 432x288 with 1 Axes>"
            ],
            "image/png": "[encoded data removed]"
          },
          "metadata": {
            "needs_background": "light"
          }
        }
      ],
      "source": [
        "print('total number of records', len(data1))\n",
        "data_label = collections.Counter(data1['Stance'])\n",
        "print('Stance bifurcation', data_label)\n",
        "\n",
        "data_frq2 = data1.groupby(['Language','Stance']).size().reset_index()\n",
        "data_frq2=data_frq2.rename(columns={0:'Count'})\n",
        "\n",
        "data_frq2= pd.pivot_table(data=data_frq2 , index=['Language'], columns=['Stance'],values=['Count'])\n",
        "data_frq2.reset_index(inplace=True)\n",
        "data_frq2.columns =['Language','AGAINST','FAVOR','NEUTRAL']\n",
        "print(data_frq2)\n",
        "\n",
        "print(\"\\n\")\n",
        "\n",
        "data_frq2.plot(x='Language', y=['AGAINST','FAVOR','NEUTRAL'], kind='bar',title='E-USA: Language wise')\n",
        "plt.xticks(rotation=360)"
      ]
    },
    {
      "cell_type": "code",
      "execution_count": null,
      "metadata": {
        "colab": {
          "base_uri": "https://localhost:8080/",
          "height": 678
        },
        "id": "bnB2CieDP9d3",
        "outputId": "789dd2eb-6be8-4f84-fbfe-a63d1f756839"
      },
      "outputs": [
        {
          "output_type": "stream",
          "name": "stdout",
          "text": [
            "total number of records 10194\n",
            "Stance bifurcation Counter({'FAVOR': 6001, 'AGAINST': 2380, 'NEUTRAL': 1813})\n",
            "                    Target Language  AGAINST  FAVOR  NEUTRAL\n",
            "0  Catalonian Independence       CA      149   3902      598\n",
            "1  Catalonian Independence       SP     2231   2099     1215\n",
            "\n",
            "\n",
            "total number of records 10194\n",
            "Stance bifurcation Counter({'FAVOR': 6001, 'AGAINST': 2380, 'NEUTRAL': 1813})\n",
            "                    Target  AGAINST  FAVOR  NEUTRAL\n",
            "0  Catalonian Independence     2380   6001     1813\n",
            "\n",
            "\n",
            "total number of records 10194\n",
            "Stance bifurcation Counter({'FAVOR': 6001, 'AGAINST': 2380, 'NEUTRAL': 1813})\n",
            "  Language  AGAINST  FAVOR  NEUTRAL\n",
            "0       CA      149   3902      598\n",
            "1       SP     2231   2099     1215\n",
            "\n",
            "\n"
          ]
        },
        {
          "output_type": "execute_result",
          "data": {
            "text/plain": [
              "(array([0, 1]), <a list of 2 Text major ticklabel objects>)"
            ]
          },
          "metadata": {},
          "execution_count": 25
        },
        {
          "output_type": "display_data",
          "data": {
            "text/plain": [
              "<Figure size 432x288 with 1 Axes>"
            ],
            "image/png": "[encoded data removed]"
          },
          "metadata": {
            "needs_background": "light"
          }
        }
      ],
      "source": [
        "print('total number of records', len(data2))\n",
        "data_label = collections.Counter(data2['Stance'])\n",
        "print('Stance bifurcation', data_label)\n",
        "\n",
        "data_frq2 = data2.groupby(['Target','Language','Stance']).size().reset_index()\n",
        "data_frq2=data_frq2.rename(columns={0:'Count'})\n",
        "\n",
        "data_frq2= pd.pivot_table(data=data_frq2 , index=['Target','Language'], columns=['Stance'],values=['Count'])\n",
        "data_frq2.reset_index(inplace=True)\n",
        "data_frq2.columns =['Target','Language','AGAINST','FAVOR','NEUTRAL']\n",
        "print(data_frq2)\n",
        "\n",
        "print(\"\\n\")\n",
        "\n",
        "print('total number of records', len(data2))\n",
        "data_label = collections.Counter(data2['Stance'])\n",
        "print('Stance bifurcation', data_label)\n",
        "\n",
        "data_frq2 = data2.groupby(['Target','Stance']).size().reset_index()\n",
        "data_frq2=data_frq2.rename(columns={0:'Count'})\n",
        "\n",
        "data_frq2= pd.pivot_table(data=data_frq2 , index=['Target'], columns=['Stance'],values=['Count'])\n",
        "data_frq2.reset_index(inplace=True)\n",
        "data_frq2.columns =['Target','AGAINST','FAVOR','NEUTRAL']\n",
        "print(data_frq2)\n",
        "\n",
        "print(\"\\n\")\n",
        "\n",
        "print('total number of records', len(data2))\n",
        "data_label = collections.Counter(data2['Stance'])\n",
        "print('Stance bifurcation', data_label)\n",
        "\n",
        "data_frq2 = data2.groupby(['Language','Stance']).size().reset_index()\n",
        "data_frq2=data_frq2.rename(columns={0:'Count'})\n",
        "\n",
        "data_frq2= pd.pivot_table(data=data_frq2 , index=['Language'], columns=['Stance'],values=['Count'])\n",
        "data_frq2.reset_index(inplace=True)\n",
        "data_frq2.columns =['Language','AGAINST','FAVOR','NEUTRAL']\n",
        "print(data_frq2)\n",
        "\n",
        "print(\"\\n\")\n",
        "data_frq2.plot(x='Language', y=['AGAINST','FAVOR','NEUTRAL'], kind='bar',title='R-CAT: Language wise')\n",
        "plt.xticks(rotation=360)"
      ]
    },
    {
      "cell_type": "code",
      "execution_count": null,
      "metadata": {
        "colab": {
          "base_uri": "https://localhost:8080/",
          "height": 423
        },
        "id": "uO92D4Lj3Icj",
        "outputId": "95ade9c5-41b1-4d2a-86eb-76098b2b88ce"
      },
      "outputs": [
        {
          "output_type": "stream",
          "name": "stdout",
          "text": [
            "total number of records 10194\n",
            "Stance bifurcation Counter({'FAVOR': 6001, 'AGAINST': 2380, 'NEUTRAL': 1813})\n",
            "                    Target  AGAINST  FAVOR  NEUTRAL\n",
            "0  Catalonian Independence     2380   6001     1813\n",
            "\n",
            "\n"
          ]
        },
        {
          "output_type": "execute_result",
          "data": {
            "text/plain": [
              "(array([0]), <a list of 1 Text major ticklabel objects>)"
            ]
          },
          "metadata": {},
          "execution_count": 26
        },
        {
          "output_type": "display_data",
          "data": {
            "text/plain": [
              "<Figure size 432x288 with 1 Axes>"
            ],
            "image/png": "[encoded data removed]"
          },
          "metadata": {
            "needs_background": "light"
          }
        }
      ],
      "source": [
        "print('total number of records', len(data2))\n",
        "data_label = collections.Counter(data2['Stance'])\n",
        "print('Stance bifurcation', data_label)\n",
        "\n",
        "data_frq2 = data2.groupby(['Target','Stance']).size().reset_index()\n",
        "data_frq2=data_frq2.rename(columns={0:'Count'})\n",
        "\n",
        "data_frq2= pd.pivot_table(data=data_frq2 , index=['Target'], columns=['Stance'],values=['Count'])\n",
        "data_frq2.reset_index(inplace=True)\n",
        "data_frq2.columns =['Target','AGAINST','FAVOR','NEUTRAL']\n",
        "print(data_frq2)\n",
        "\n",
        "print(\"\\n\")\n",
        "data_frq2.plot(x='Target', y=['AGAINST','FAVOR','NEUTRAL'], kind='bar',title='R-CAT Label Distribution')\n",
        "plt.xticks(rotation=360)"
      ]
    },
    {
      "cell_type": "code",
      "execution_count": null,
      "metadata": {
        "colab": {
          "base_uri": "https://localhost:8080/",
          "height": 441
        },
        "id": "FXNngdikUI7n",
        "outputId": "133d907b-5e80-434d-a405-42aceda8596b"
      },
      "outputs": [
        {
          "output_type": "stream",
          "name": "stdout",
          "text": [
            "total number of records 1116\n",
            "Stance bifurcation Counter({'AGAINST': 774, 'NEUTRAL': 186, 'FAVOR': 156})\n",
            "            Target  AGAINST  FAVOR  NEUTRAL\n",
            "0  Emmanuel Macron      308     91      131\n",
            "1    Marine Le Pen      466     65       55\n",
            "\n",
            "\n"
          ]
        },
        {
          "output_type": "execute_result",
          "data": {
            "text/plain": [
              "(array([0, 1]), <a list of 2 Text major ticklabel objects>)"
            ]
          },
          "metadata": {},
          "execution_count": 27
        },
        {
          "output_type": "display_data",
          "data": {
            "text/plain": [
              "<Figure size 432x288 with 1 Axes>"
            ],
            "image/png": "[encoded data removed]"
          },
          "metadata": {
            "needs_background": "light"
          }
        }
      ],
      "source": [
        "print('total number of records', len(data3))\n",
        "data_label = collections.Counter(data3['Stance'])\n",
        "print('Stance bifurcation', data_label)\n",
        "\n",
        "data_frq2 = data3.groupby(['Target','Stance']).size().reset_index()\n",
        "data_frq2=data_frq2.rename(columns={0:'Count'})\n",
        "\n",
        "data_frq2= pd.pivot_table(data=data_frq2 , index=['Target'], columns=['Stance'],values=['Count'])\n",
        "data_frq2.reset_index(inplace=True)\n",
        "data_frq2.columns =['Target','AGAINST','FAVOR','NEUTRAL']\n",
        "print(data_frq2)\n",
        "\n",
        "print(\"\\n\")\n",
        "data_frq2.plot(x='Target', y=['AGAINST','FAVOR','NEUTRAL'], kind='bar',title='E-FRA: Language wise')\n",
        "plt.xticks(rotation=360)"
      ]
    },
    {
      "cell_type": "code",
      "execution_count": null,
      "metadata": {
        "colab": {
          "base_uri": "https://localhost:8080/",
          "height": 423
        },
        "id": "WOjr51fAWPGc",
        "outputId": "573faaf4-ada3-4222-dcb6-333f303a8756"
      },
      "outputs": [
        {
          "output_type": "stream",
          "name": "stdout",
          "text": [
            "total number of records 833\n",
            "Stance bifurcation Counter({'AGAINST': 486, 'NEUTRAL': 184, 'FAVOR': 163})\n",
            "                  Target  AGAINST  FAVOR  NEUTRAL\n",
            "0  Constitutional Reform      486    163      184\n",
            "\n",
            "\n"
          ]
        },
        {
          "output_type": "execute_result",
          "data": {
            "text/plain": [
              "(array([0]), <a list of 1 Text major ticklabel objects>)"
            ]
          },
          "metadata": {},
          "execution_count": 28
        },
        {
          "output_type": "display_data",
          "data": {
            "text/plain": [
              "<Figure size 432x288 with 1 Axes>"
            ],
            "image/png": "[encoded data removed]"
          },
          "metadata": {
            "needs_background": "light"
          }
        }
      ],
      "source": [
        "print('total number of records', len(data4))\n",
        "data_label = collections.Counter(data4['Stance'])\n",
        "print('Stance bifurcation', data_label)\n",
        "\n",
        "data_frq2 = data4.groupby(['Target','Stance']).size().reset_index()\n",
        "data_frq2=data_frq2.rename(columns={0:'Count'})\n",
        "\n",
        "data_frq2= pd.pivot_table(data=data_frq2 , index=['Target'], columns=['Stance'],values=['Count'])\n",
        "data_frq2.reset_index(inplace=True)\n",
        "data_frq2.columns =['Target','AGAINST','FAVOR','NEUTRAL']\n",
        "print(data_frq2)\n",
        "\n",
        "print(\"\\n\")\n",
        "\n",
        "data_frq2.plot(x='Target', y=['AGAINST','FAVOR','NEUTRAL'], kind='bar',title='R-ITA: Target wise')\n",
        "plt.xticks(rotation=360)"
      ]
    },
    {
      "cell_type": "markdown",
      "source": [
        "# Train/Validation/Test Data split"
      ],
      "metadata": {
        "id": "Y_ZG2041LTlA"
      }
    },
    {
      "cell_type": "code",
      "execution_count": null,
      "metadata": {
        "id": "HjC_1PNFd4W0"
      },
      "outputs": [],
      "source": [
        "data = data.sample(frac=1).reset_index(drop=True)"
      ]
    },
    {
      "cell_type": "code",
      "execution_count": null,
      "metadata": {
        "colab": {
          "base_uri": "https://localhost:8080/"
        },
        "id": "Rco0LYE9d4cX",
        "outputId": "d54f139a-3dde-4934-b177-c21f8e085b5d"
      },
      "outputs": [
        {
          "output_type": "stream",
          "name": "stdout",
          "text": [
            "Train Data Counter({'FAVOR': 5302, 'AGAINST': 3601, 'NEUTRAL': 2157})\n",
            "test Data Counter({'FAVOR': 1329, 'AGAINST': 903, 'NEUTRAL': 542})\n"
          ]
        }
      ],
      "source": [
        "sp_against = data.loc[(data['Stance']=='AGAINST') & (data['Language']=='SP')]\n",
        "sp_neutral = data.loc[(data['Stance']=='NEUTRAL') & (data['Language']=='SP')]\n",
        "sp_favor = data.loc[(data['Stance']=='FAVOR') & (data['Language']=='SP')]\n",
        "ca_against = data.loc[(data['Stance']=='AGAINST') & (data['Language']=='CA')]\n",
        "ca_neutral = data.loc[(data['Stance']=='NEUTRAL') & (data['Language']=='CA')]\n",
        "ca_favor = data.loc[(data['Stance']=='FAVOR') & (data['Language']=='CA')]\n",
        "en_against = data.loc[(data['Stance']=='AGAINST') & (data['Language']=='EN')]\n",
        "en_neutral = data.loc[(data['Stance']=='NEUTRAL') & (data['Language']=='EN')]\n",
        "en_favor = data.loc[(data['Stance']=='FAVOR') & (data['Language']=='EN')]\n",
        "fr_against = data.loc[(data['Stance']=='AGAINST') & (data['Language']=='FR')]\n",
        "fr_neutral = data.loc[(data['Stance']=='NEUTRAL') & (data['Language']=='FR')]\n",
        "fr_favor = data.loc[(data['Stance']=='FAVOR') & (data['Language']=='FR')]\n",
        "it_against = data.loc[(data['Stance']=='AGAINST') & (data['Language']=='IT')]\n",
        "it_neutral = data.loc[(data['Stance']=='NEUTRAL') & (data['Language']=='IT')]\n",
        "it_favor = data.loc[(data['Stance']=='FAVOR') & (data['Language']=='IT')]\n",
        "\n",
        "train1, test1 = train_test_split(sp_against, test_size=0.2)\n",
        "train2, test2 = train_test_split(sp_neutral, test_size=0.2)\n",
        "train3, test3 = train_test_split(sp_favor, test_size=0.2)\n",
        "train4, test4 = train_test_split(ca_against, test_size=0.2)\n",
        "train5, test5 = train_test_split(ca_neutral, test_size=0.2)\n",
        "train6, test6 = train_test_split(ca_favor, test_size=0.2)\n",
        "train7, test7 = train_test_split(en_against, test_size=0.2)\n",
        "train8, test8 = train_test_split(en_neutral, test_size=0.2)\n",
        "train9, test9 = train_test_split(en_favor, test_size=0.2)\n",
        "train10, test10 = train_test_split(fr_against, test_size=0.2)\n",
        "train11, test11 = train_test_split(fr_neutral, test_size=0.2)\n",
        "train12, test12 = train_test_split(fr_favor, test_size=0.2)\n",
        "train13, test13 = train_test_split(it_against, test_size=0.2)\n",
        "train14, test14 = train_test_split(it_neutral, test_size=0.2)\n",
        "train15, test15 = train_test_split(it_favor, test_size=0.2)\n",
        "\n",
        "frames=[train1,train2,train3,train4,train5,train6,train7,train8,train9,train10,train11,train12,train13,train14,train15]\n",
        "train = pd.concat(frames)\n",
        "print(\"Train Data\", collections.Counter(train['Stance']))\n",
        "\n",
        "frames=[test1,test2,test3,test4,test5,test6,test7,test8,test9,test10,test11,test12,test13,test14,test15]\n",
        "test = pd.concat(frames)\n",
        "print(\"test Data\", collections.Counter(test['Stance']))"
      ]
    },
    {
      "cell_type": "code",
      "execution_count": null,
      "metadata": {
        "colab": {
          "base_uri": "https://localhost:8080/"
        },
        "id": "jd4SLSRyDjZg",
        "outputId": "a6f6c09c-979d-42ad-c44d-2ce1491cf4ce"
      },
      "outputs": [
        {
          "output_type": "stream",
          "name": "stdout",
          "text": [
            "Train Data Counter({'FAVOR': 3975, 'AGAINST': 2700, 'NEUTRAL': 1617})\n",
            "val Data Counter({'FAVOR': 1327, 'AGAINST': 901, 'NEUTRAL': 540})\n"
          ]
        }
      ],
      "source": [
        "sp_against = train.loc[(train['Stance']=='AGAINST') & (train['Language']=='SP')]\n",
        "sp_neutral = train.loc[(train['Stance']=='NEUTRAL') & (train['Language']=='SP')]\n",
        "sp_favor = train.loc[(train['Stance']=='FAVOR') & (train['Language']=='SP')]\n",
        "ca_against = train.loc[(train['Stance']=='AGAINST') & (train['Language']=='CA')]\n",
        "ca_neutral = train.loc[(train['Stance']=='NEUTRAL') & (train['Language']=='CA')]\n",
        "ca_favor = train.loc[(train['Stance']=='FAVOR') & (train['Language']=='CA')]\n",
        "en_against = train.loc[(train['Stance']=='AGAINST') & (train['Language']=='EN')]\n",
        "en_neutral = train.loc[(train['Stance']=='NEUTRAL') & (train['Language']=='EN')]\n",
        "en_favor = train.loc[(train['Stance']=='FAVOR') & (train['Language']=='EN')]\n",
        "fr_against = train.loc[(train['Stance']=='AGAINST') & (train['Language']=='FR')]\n",
        "fr_neutral = train.loc[(train['Stance']=='NEUTRAL') & (train['Language']=='FR')]\n",
        "fr_favor = train.loc[(train['Stance']=='FAVOR') & (train['Language']=='FR')]\n",
        "it_against = train.loc[(train['Stance']=='AGAINST') & (train['Language']=='IT')]\n",
        "it_neutral = train.loc[(train['Stance']=='NEUTRAL') & (train['Language']=='IT')]\n",
        "it_favor = train.loc[(train['Stance']=='FAVOR') & (train['Language']=='IT')]\n",
        "\n",
        "train1, val1 = train_test_split(sp_against, test_size=0.25)\n",
        "train2, val2 = train_test_split(sp_neutral, test_size=0.25)\n",
        "train3, val3 = train_test_split(sp_favor, test_size=0.25)\n",
        "train4, val4 = train_test_split(ca_against, test_size=0.25)\n",
        "train5, val5 = train_test_split(ca_neutral, test_size=0.25)\n",
        "train6, val6 = train_test_split(ca_favor, test_size=0.25)\n",
        "train7, val7 = train_test_split(en_against, test_size=0.25)\n",
        "train8, val8 = train_test_split(en_neutral, test_size=0.25)\n",
        "train9, val9 = train_test_split(en_favor, test_size=0.25)\n",
        "train10, val10 = train_test_split(fr_against, test_size=0.25)\n",
        "train11, val11 = train_test_split(fr_neutral, test_size=0.25)\n",
        "train12, val12 = train_test_split(fr_favor, test_size=0.25)\n",
        "train13, val13 = train_test_split(it_against, test_size=0.25)\n",
        "train14, val14 = train_test_split(it_neutral, test_size=0.25)\n",
        "train15, val15 = train_test_split(it_favor, test_size=0.25)\n",
        "\n",
        "frames=[train1,train2,train3,train4,train5,train6,train7,train8,train9,train10,train11,train12,train13,train14,train15]\n",
        "train = pd.concat(frames)\n",
        "print(\"Train Data\", collections.Counter(train['Stance']))\n",
        "\n",
        "frames=[val1,val2,val3,val4,val5,val6,val7,val8,val9,val10,val11,val12,val13,val14,val15]\n",
        "val = pd.concat(frames)\n",
        "print(\"val Data\", collections.Counter(val['Stance']))"
      ]
    },
    {
      "cell_type": "code",
      "execution_count": null,
      "metadata": {
        "colab": {
          "base_uri": "https://localhost:8080/"
        },
        "id": "2wJHBcj5DnQh",
        "outputId": "80fb69de-2ed7-4e72-b60a-33515f9769a2"
      },
      "outputs": [
        {
          "output_type": "stream",
          "name": "stdout",
          "text": [
            "training set contains 8292 number of tweets\n",
            "validation set contains 2768 number of tweets\n",
            "test set contains 2774 number of tweets\n",
            "Train Data Counter({'FAVOR': 3975, 'AGAINST': 2700, 'NEUTRAL': 1617})\n",
            "Validation Data Counter({'FAVOR': 1327, 'AGAINST': 901, 'NEUTRAL': 540})\n",
            "Test Data Counter({'FAVOR': 1329, 'AGAINST': 903, 'NEUTRAL': 542})\n"
          ]
        }
      ],
      "source": [
        "print ( \"training set contains %d number of tweets\" % len(train))\n",
        "print ( \"validation set contains %d number of tweets\" % len(val))\n",
        "print ( \"test set contains %d number of tweets\" % len(test))\n",
        "\n",
        "print(\"Train Data\", collections.Counter(train['Stance']))\n",
        "print(\"Validation Data\", collections.Counter(val['Stance']))\n",
        "print(\"Test Data\", collections.Counter(test['Stance']))"
      ]
    },
    {
      "cell_type": "code",
      "execution_count": null,
      "metadata": {
        "colab": {
          "base_uri": "https://localhost:8080/",
          "height": 350
        },
        "id": "omDk1PmzIML9",
        "outputId": "016daadb-a083-4f71-a138-643823abb357"
      },
      "outputs": [
        {
          "output_type": "stream",
          "name": "stdout",
          "text": [
            "8292\n",
            "11060\n"
          ]
        },
        {
          "output_type": "execute_result",
          "data": {
            "text/plain": [
              "(array([0, 1, 2]), <a list of 3 Text major ticklabel objects>)"
            ]
          },
          "metadata": {},
          "execution_count": 33
        },
        {
          "output_type": "display_data",
          "data": {
            "text/plain": [
              "<Figure size 432x288 with 1 Axes>"
            ],
            "image/png": "[encoded data removed]"
          },
          "metadata": {
            "needs_background": "light"
          }
        }
      ],
      "source": [
        "temp = train\n",
        "temp['Dataset'] ='Train'\n",
        "print(len(temp))\n",
        "\n",
        "frame =[temp,val]\n",
        "temp=pd.concat(frame)\n",
        "print(len(temp))\n",
        "temp.loc[temp['Dataset'].isnull(),'Dataset']='Validation'\n",
        "\n",
        "frame =[temp,test]\n",
        "temp=pd.concat(frame)\n",
        "temp.loc[temp['Dataset'].isnull(),'Dataset']='Test'\n",
        "\n",
        "temp_frq = temp.groupby(['Dataset','Stance']).size().reset_index()\n",
        "temp_frq=temp_frq.rename(columns={0:'Count'})\n",
        "\n",
        "temp_frq= pd.pivot_table(data=temp_frq , index=['Dataset'], columns=['Stance'],values=['Count'])\n",
        "temp_frq.reset_index(inplace=True)\n",
        "temp_frq.columns =['Dataset','AGAINST','FAVOR','NEUTRAL']\n",
        "temp_frq = temp_frq.sort_values(by=['AGAINST'], ascending=False)\n",
        "\n",
        "temp_frq.plot(x='Dataset', y=['AGAINST','FAVOR','NEUTRAL'], kind='bar', title='Train/Validation/Test Split', ylabel='Number of Tweets')\n",
        "plt.xticks(rotation=360)"
      ]
    },
    {
      "cell_type": "code",
      "execution_count": null,
      "metadata": {
        "colab": {
          "base_uri": "https://localhost:8080/"
        },
        "id": "M6lEXd472ckc",
        "outputId": "d12fdced-4589-4001-bd59-fa4dad06f9d3"
      },
      "outputs": [
        {
          "output_type": "stream",
          "name": "stdout",
          "text": [
            "total number of records 8292\n",
            "Stance bifurcation Counter({'FAVOR': 3975, 'AGAINST': 2700, 'NEUTRAL': 1617})\n",
            "  Language  AGAINST  FAVOR  NEUTRAL\n",
            "0       CA       89   2340      358\n",
            "1       EN      518    186      309\n",
            "2       FR      464     93      111\n",
            "3       IT      291     97      110\n",
            "4       SP     1338   1259      729\n",
            "total number of records 2768\n",
            "Stance bifurcation Counter({'FAVOR': 1327, 'AGAINST': 901, 'NEUTRAL': 540})\n",
            "  Language  AGAINST  FAVOR  NEUTRAL\n",
            "0       CA       30    781      120\n",
            "1       EN      173     62      103\n",
            "2       FR      155     31       37\n",
            "3       IT       97     33       37\n",
            "4       SP      446    420      243\n",
            "total number of records 2774\n",
            "Stance bifurcation Counter({'FAVOR': 1329, 'AGAINST': 903, 'NEUTRAL': 542})\n",
            "  Language  AGAINST  FAVOR  NEUTRAL\n",
            "0       CA       30    781      120\n",
            "1       EN      173     63      104\n",
            "2       FR      155     32       38\n",
            "3       IT       98     33       37\n",
            "4       SP      447    420      243\n"
          ]
        }
      ],
      "source": [
        "print('total number of records', len(train))\n",
        "train_label = collections.Counter(train['Stance'])\n",
        "print('Stance bifurcation', train_label)\n",
        "\n",
        "train_frq = train.groupby(['Language','Stance']).size().reset_index()\n",
        "train_frq=train_frq.rename(columns={0:'Count'})\n",
        "\n",
        "train_frq= pd.pivot_table(data=train_frq , index=['Language'], columns=['Stance'],values=['Count'])\n",
        "train_frq.reset_index(inplace=True)\n",
        "train_frq.columns =['Language','AGAINST','FAVOR','NEUTRAL']\n",
        "print(train_frq)\n",
        "\n",
        "print('total number of records', len(val))\n",
        "val_label = collections.Counter(val['Stance'])\n",
        "print('Stance bifurcation', val_label)\n",
        "\n",
        "val_frq = val.groupby(['Language','Stance']).size().reset_index()\n",
        "val_frq=val_frq.rename(columns={0:'Count'})\n",
        "\n",
        "val_frq= pd.pivot_table(data=val_frq , index=['Language'], columns=['Stance'],values=['Count'])\n",
        "val_frq.reset_index(inplace=True)\n",
        "val_frq.columns =['Language','AGAINST','FAVOR','NEUTRAL']\n",
        "print(val_frq)\n",
        "\n",
        "print('total number of records', len(test))\n",
        "test_label = collections.Counter(test['Stance'])\n",
        "print('Stance bifurcation', test_label)\n",
        "\n",
        "test_frq = test.groupby(['Language','Stance']).size().reset_index()\n",
        "test_frq=test_frq.rename(columns={0:'Count'})\n",
        "\n",
        "test_frq= pd.pivot_table(data=test_frq , index=['Language'], columns=['Stance'],values=['Count'])\n",
        "test_frq.reset_index(inplace=True)\n",
        "test_frq.columns =['Language','AGAINST','FAVOR','NEUTRAL']\n",
        "print(test_frq)"
      ]
    },
    {
      "cell_type": "markdown",
      "source": [
        "# Unbalanced Trainset"
      ],
      "metadata": {
        "id": "b-h1dduMAGnw"
      }
    },
    {
      "cell_type": "code",
      "source": [
        "train_fr = train.loc[train['Language']=='FR']\n",
        "print(\"French Training set contains \", len(train_fr))\n",
        "train_en = train.loc[train['Language']=='EN']\n",
        "print(\"English Training set contains \", len(train_en))\n",
        "train_sp = train.loc[train['Language']=='SP']\n",
        "print(\"Spanish Training set contains \", len(train_sp))\n",
        "train_ca = train.loc[train['Language']=='CA']\n",
        "print(\"Catalan Training set contains \", len(train_ca))\n",
        "train_it = train.loc[train['Language']=='IT']\n",
        "print(\"Italian Training set contains \", len(train_it))\n",
        "\n",
        "val_fr = val.loc[val['Language']=='FR']\n",
        "print(\"French Validation set contains \", len(val_fr))\n",
        "val_en = val.loc[val['Language']=='EN']\n",
        "print(\"English Validation set contains \", len(val_en))\n",
        "val_sp = val.loc[val['Language']=='SP']\n",
        "print(\"Spanish Validation set contains \", len(val_sp))\n",
        "val_ca = val.loc[val['Language']=='CA']\n",
        "print(\"Catalan Validation set contains \", len(val_ca))\n",
        "val_it = val.loc[val['Language']=='IT']\n",
        "print(\"Italian Validation set contains \", len(val_it))\n",
        "\n",
        "test_fr = test.loc[test['Language']=='FR']\n",
        "print(\"French Test set contains \", len(test_fr))\n",
        "test_en = test.loc[test['Language']=='EN']\n",
        "print(\"English Test set contains \", len(test_en))\n",
        "test_sp = test.loc[test['Language']=='SP']\n",
        "print(\"Spanish Test set contains \", len(test_sp))\n",
        "test_ca = test.loc[test['Language']=='CA']\n",
        "print(\"Catalan Test set contains \", len(test_ca))\n",
        "test_it = test.loc[test['Language']=='IT']\n",
        "print(\"Italian Test set contains \", len(test_it))"
      ],
      "metadata": {
        "colab": {
          "base_uri": "https://localhost:8080/"
        },
        "id": "PEqTal6jAGO-",
        "outputId": "fbc63004-cd15-49bd-a6ef-d6b595e3d50a"
      },
      "execution_count": null,
      "outputs": [
        {
          "output_type": "stream",
          "name": "stdout",
          "text": [
            "French Training set contains  668\n",
            "English Training set contains  1013\n",
            "Spanish Training set contains  3326\n",
            "Catalan Training set contains  2787\n",
            "Italian Training set contains  498\n",
            "French Validation set contains  223\n",
            "English Validation set contains  338\n",
            "Spanish Validation set contains  1109\n",
            "Catalan Validation set contains  931\n",
            "Italian Validation set contains  167\n",
            "French Test set contains  225\n",
            "English Test set contains  340\n",
            "Spanish Test set contains  1110\n",
            "Catalan Test set contains  931\n",
            "Italian Test set contains  168\n"
          ]
        }
      ]
    },
    {
      "cell_type": "code",
      "source": [
        "print('total number of records', len(train_sp))\n",
        "train_label = collections.Counter(train_sp['Stance'])\n",
        "print('Stance bifurcation', train_label)\n",
        "\n",
        "train_frq = train_sp.groupby(['Language','Stance']).size().reset_index()\n",
        "train_frq=train_frq.rename(columns={0:'Count'})\n",
        "\n",
        "train_frq= pd.pivot_table(data=train_frq , index=['Language'], columns=['Stance'],values=['Count'])\n",
        "train_frq.reset_index(inplace=True)\n",
        "train_frq.columns =['Language','AGAINST','FAVOR','NEUTRAL']\n",
        "print(train_frq)\n",
        "\n",
        "print('total number of records', len(val_sp))\n",
        "val_label = collections.Counter(val_sp['Stance'])\n",
        "print('Stance bifurcation', val_label)\n",
        "\n",
        "val_frq = val_sp.groupby(['Language','Stance']).size().reset_index()\n",
        "val_frq=val_frq.rename(columns={0:'Count'})\n",
        "\n",
        "val_frq= pd.pivot_table(data=val_frq , index=['Language'], columns=['Stance'],values=['Count'])\n",
        "val_frq.reset_index(inplace=True)\n",
        "val_frq.columns =['Language','AGAINST','FAVOR','NEUTRAL']\n",
        "print(val_frq)\n",
        "\n",
        "print('total number of records', len(test_sp))\n",
        "test_label = collections.Counter(test_sp['Stance'])\n",
        "print('Stance bifurcation', test_label)\n",
        "\n",
        "test_frq = test_sp.groupby(['Language','Stance']).size().reset_index()\n",
        "test_frq=test_frq.rename(columns={0:'Count'})\n",
        "\n",
        "test_frq= pd.pivot_table(data=test_frq , index=['Language'], columns=['Stance'],values=['Count'])\n",
        "test_frq.reset_index(inplace=True)\n",
        "test_frq.columns =['Language','AGAINST','FAVOR','NEUTRAL']\n",
        "print(test_frq)\n",
        "\n",
        "fig, axes = plt.subplots(1,3, figsize=(20,5))\n",
        "\n",
        "train_frq.plot(x='Language', y=['AGAINST','FAVOR','NEUTRAL'], kind='bar', ax=axes[0], title='Training Set - Spanish', ylabel='Number of Tweets')\n",
        "val_frq.plot(x='Language', y=['AGAINST','FAVOR','NEUTRAL'], kind='bar', ax=axes[1], title='Validation Set - Spanish', ylabel='Number of Tweets')\n",
        "test_frq.plot(x=\"Language\", y=[\"AGAINST\", \"FAVOR\",'NEUTRAL'], kind=\"bar\", ax=axes[2], title='Test Set - Spanish', ylabel='Number of Tweets')"
      ],
      "metadata": {
        "id": "YggiyN5mEFJZ",
        "colab": {
          "base_uri": "https://localhost:8080/",
          "height": 589
        },
        "outputId": "6692c8c1-8dbb-405e-d4b2-1b27aaf4126e"
      },
      "execution_count": null,
      "outputs": [
        {
          "output_type": "stream",
          "name": "stdout",
          "text": [
            "total number of records 3326\n",
            "Stance bifurcation Counter({'AGAINST': 1338, 'FAVOR': 1259, 'NEUTRAL': 729})\n",
            "  Language  AGAINST  FAVOR  NEUTRAL\n",
            "0       SP     1338   1259      729\n",
            "total number of records 1109\n",
            "Stance bifurcation Counter({'AGAINST': 446, 'FAVOR': 420, 'NEUTRAL': 243})\n",
            "  Language  AGAINST  FAVOR  NEUTRAL\n",
            "0       SP      446    420      243\n",
            "total number of records 1110\n",
            "Stance bifurcation Counter({'AGAINST': 447, 'FAVOR': 420, 'NEUTRAL': 243})\n",
            "  Language  AGAINST  FAVOR  NEUTRAL\n",
            "0       SP      447    420      243\n"
          ]
        },
        {
          "output_type": "execute_result",
          "data": {
            "text/plain": [
              "<matplotlib.axes._subplots.AxesSubplot at 0x7f6ab801aa50>"
            ]
          },
          "metadata": {},
          "execution_count": 36
        },
        {
          "output_type": "display_data",
          "data": {
            "text/plain": [
              "<Figure size 1440x360 with 3 Axes>"
            ],
            "image/png": "[encoded data removed]"
          },
          "metadata": {
            "needs_background": "light"
          }
        }
      ]
    },
    {
      "cell_type": "code",
      "source": [
        "print('total number of records', len(train_en))\n",
        "train_label = collections.Counter(train_en['Stance'])\n",
        "print('Stance bifurcation', train_label)\n",
        "\n",
        "train_frq = train_en.groupby(['Language','Stance']).size().reset_index()\n",
        "train_frq=train_frq.rename(columns={0:'Count'})\n",
        "\n",
        "train_frq= pd.pivot_table(data=train_frq , index=['Language'], columns=['Stance'],values=['Count'])\n",
        "train_frq.reset_index(inplace=True)\n",
        "train_frq.columns =['Language','AGAINST','FAVOR','NEUTRAL']\n",
        "print(train_frq)\n",
        "\n",
        "print('total number of records', len(val_en))\n",
        "val_label = collections.Counter(val_en['Stance'])\n",
        "print('Stance bifurcation', val_label)\n",
        "\n",
        "val_frq = val_en.groupby(['Language','Stance']).size().reset_index()\n",
        "val_frq=val_frq.rename(columns={0:'Count'})\n",
        "\n",
        "val_frq= pd.pivot_table(data=val_frq , index=['Language'], columns=['Stance'],values=['Count'])\n",
        "val_frq.reset_index(inplace=True)\n",
        "val_frq.columns =['Language','AGAINST','FAVOR','NEUTRAL']\n",
        "print(val_frq)\n",
        "\n",
        "print('total number of records', len(test_en))\n",
        "test_label = collections.Counter(test_en['Stance'])\n",
        "print('Stance bifurcation', test_label)\n",
        "\n",
        "test_frq = test_en.groupby(['Language','Stance']).size().reset_index()\n",
        "test_frq=test_frq.rename(columns={0:'Count'})\n",
        "\n",
        "test_frq= pd.pivot_table(data=test_frq , index=['Language'], columns=['Stance'],values=['Count'])\n",
        "test_frq.reset_index(inplace=True)\n",
        "test_frq.columns =['Language','AGAINST','FAVOR','NEUTRAL']\n",
        "print(test_frq)\n",
        "\n",
        "fig, axes = plt.subplots(1,3, figsize=(20,5))\n",
        "\n",
        "train_frq.plot(x='Language', y=['AGAINST','FAVOR','NEUTRAL'], kind='bar', ax=axes[0], title='Training Set - English', ylabel='Number of Tweets')\n",
        "val_frq.plot(x='Language', y=['AGAINST','FAVOR','NEUTRAL'], kind='bar', ax=axes[1], title='Validation Set - English', ylabel='Number of Tweets')\n",
        "test_frq.plot(x=\"Language\", y=[\"AGAINST\", \"FAVOR\",'NEUTRAL'], kind=\"bar\", ax=axes[2], title='Test Set - English', ylabel='Number of Tweets')"
      ],
      "metadata": {
        "colab": {
          "base_uri": "https://localhost:8080/",
          "height": 590
        },
        "id": "9xl3HFYqUisl",
        "outputId": "12f3fd4c-e744-46a8-d974-d4756c775e69"
      },
      "execution_count": null,
      "outputs": [
        {
          "output_type": "stream",
          "name": "stdout",
          "text": [
            "total number of records 1013\n",
            "Stance bifurcation Counter({'AGAINST': 518, 'NEUTRAL': 309, 'FAVOR': 186})\n",
            "  Language  AGAINST  FAVOR  NEUTRAL\n",
            "0       EN      518    186      309\n",
            "total number of records 338\n",
            "Stance bifurcation Counter({'AGAINST': 173, 'NEUTRAL': 103, 'FAVOR': 62})\n",
            "  Language  AGAINST  FAVOR  NEUTRAL\n",
            "0       EN      173     62      103\n",
            "total number of records 340\n",
            "Stance bifurcation Counter({'AGAINST': 173, 'NEUTRAL': 104, 'FAVOR': 63})\n",
            "  Language  AGAINST  FAVOR  NEUTRAL\n",
            "0       EN      173     63      104\n"
          ]
        },
        {
          "output_type": "execute_result",
          "data": {
            "text/plain": [
              "<matplotlib.axes._subplots.AxesSubplot at 0x7f6ab7eecc10>"
            ]
          },
          "metadata": {},
          "execution_count": 37
        },
        {
          "output_type": "display_data",
          "data": {
            "text/plain": [
              "<Figure size 1440x360 with 3 Axes>"
            ],
            "image/png": "[encoded data removed]"
          },
          "metadata": {
            "needs_background": "light"
          }
        }
      ]
    },
    {
      "cell_type": "code",
      "source": [
        "print('total number of records', len(train_ca))\n",
        "train_label = collections.Counter(train_ca['Stance'])\n",
        "print('Stance bifurcation', train_label)\n",
        "\n",
        "train_frq = train_ca.groupby(['Language','Stance']).size().reset_index()\n",
        "train_frq=train_frq.rename(columns={0:'Count'})\n",
        "\n",
        "train_frq= pd.pivot_table(data=train_frq , index=['Language'], columns=['Stance'],values=['Count'])\n",
        "train_frq.reset_index(inplace=True)\n",
        "train_frq.columns =['Language','AGAINST','FAVOR','NEUTRAL']\n",
        "print(train_frq)\n",
        "\n",
        "print('total number of records', len(val_ca))\n",
        "val_label = collections.Counter(val_ca['Stance'])\n",
        "print('Stance bifurcation', val_label)\n",
        "\n",
        "val_frq = val_ca.groupby(['Language','Stance']).size().reset_index()\n",
        "val_frq=val_frq.rename(columns={0:'Count'})\n",
        "\n",
        "val_frq= pd.pivot_table(data=val_frq , index=['Language'], columns=['Stance'],values=['Count'])\n",
        "val_frq.reset_index(inplace=True)\n",
        "val_frq.columns =['Language','AGAINST','FAVOR','NEUTRAL']\n",
        "print(val_frq)\n",
        "\n",
        "print('total number of records', len(test_ca))\n",
        "test_label = collections.Counter(test_ca['Stance'])\n",
        "print('Stance bifurcation', test_label)\n",
        "\n",
        "test_frq = test_ca.groupby(['Language','Stance']).size().reset_index()\n",
        "test_frq=test_frq.rename(columns={0:'Count'})\n",
        "\n",
        "test_frq= pd.pivot_table(data=test_frq , index=['Language'], columns=['Stance'],values=['Count'])\n",
        "test_frq.reset_index(inplace=True)\n",
        "test_frq.columns =['Language','AGAINST','FAVOR','NEUTRAL']\n",
        "print(test_frq)\n",
        "\n",
        "fig, axes = plt.subplots(1,3, figsize=(20,5))\n",
        "\n",
        "train_frq.plot(x='Language', y=['AGAINST','FAVOR','NEUTRAL'], kind='bar', ax=axes[0], title='Training Set - Catalan', ylabel='Number of Tweets')\n",
        "val_frq.plot(x='Language', y=['AGAINST','FAVOR','NEUTRAL'], kind='bar', ax=axes[1], title='Validation Set - Catalan', ylabel='Number of Tweets')\n",
        "test_frq.plot(x=\"Language\", y=[\"AGAINST\", \"FAVOR\",'NEUTRAL'], kind=\"bar\", ax=axes[2], title='Test Set - Catalan', ylabel='Number of Tweets')"
      ],
      "metadata": {
        "colab": {
          "base_uri": "https://localhost:8080/",
          "height": 590
        },
        "id": "hVLQtbJLUt8r",
        "outputId": "82972422-60b4-4aa5-e8ab-fc5d25542543"
      },
      "execution_count": null,
      "outputs": [
        {
          "output_type": "stream",
          "name": "stdout",
          "text": [
            "total number of records 2787\n",
            "Stance bifurcation Counter({'FAVOR': 2340, 'NEUTRAL': 358, 'AGAINST': 89})\n",
            "  Language  AGAINST  FAVOR  NEUTRAL\n",
            "0       CA       89   2340      358\n",
            "total number of records 931\n",
            "Stance bifurcation Counter({'FAVOR': 781, 'NEUTRAL': 120, 'AGAINST': 30})\n",
            "  Language  AGAINST  FAVOR  NEUTRAL\n",
            "0       CA       30    781      120\n",
            "total number of records 931\n",
            "Stance bifurcation Counter({'FAVOR': 781, 'NEUTRAL': 120, 'AGAINST': 30})\n",
            "  Language  AGAINST  FAVOR  NEUTRAL\n",
            "0       CA       30    781      120\n"
          ]
        },
        {
          "output_type": "execute_result",
          "data": {
            "text/plain": [
              "<matplotlib.axes._subplots.AxesSubplot at 0x7f6ab851c910>"
            ]
          },
          "metadata": {},
          "execution_count": 38
        },
        {
          "output_type": "display_data",
          "data": {
            "text/plain": [
              "<Figure size 1440x360 with 3 Axes>"
            ],
            "image/png": "[encoded data removed]"
          },
          "metadata": {
            "needs_background": "light"
          }
        }
      ]
    },
    {
      "cell_type": "code",
      "source": [
        "print('total number of records', len(train_fr))\n",
        "train_label = collections.Counter(train_fr['Stance'])\n",
        "print('Stance bifurcation', train_label)\n",
        "\n",
        "train_frq = train_fr.groupby(['Language','Stance']).size().reset_index()\n",
        "train_frq=train_frq.rename(columns={0:'Count'})\n",
        "\n",
        "train_frq= pd.pivot_table(data=train_frq , index=['Language'], columns=['Stance'],values=['Count'])\n",
        "train_frq.reset_index(inplace=True)\n",
        "train_frq.columns =['Language','AGAINST','FAVOR','NEUTRAL']\n",
        "print(train_frq)\n",
        "\n",
        "print('total number of records', len(val_fr))\n",
        "val_label = collections.Counter(val_fr['Stance'])\n",
        "print('Stance bifurcation', val_label)\n",
        "\n",
        "val_frq = val_fr.groupby(['Language','Stance']).size().reset_index()\n",
        "val_frq=val_frq.rename(columns={0:'Count'})\n",
        "\n",
        "val_frq= pd.pivot_table(data=val_frq , index=['Language'], columns=['Stance'],values=['Count'])\n",
        "val_frq.reset_index(inplace=True)\n",
        "val_frq.columns =['Language','AGAINST','FAVOR','NEUTRAL']\n",
        "print(val_frq)\n",
        "\n",
        "print('total number of records', len(test_fr))\n",
        "test_label = collections.Counter(test_fr['Stance'])\n",
        "print('Stance bifurcation', test_label)\n",
        "\n",
        "test_frq = test_fr.groupby(['Language','Stance']).size().reset_index()\n",
        "test_frq=test_frq.rename(columns={0:'Count'})\n",
        "\n",
        "test_frq= pd.pivot_table(data=test_frq , index=['Language'], columns=['Stance'],values=['Count'])\n",
        "test_frq.reset_index(inplace=True)\n",
        "test_frq.columns =['Language','AGAINST','FAVOR','NEUTRAL']\n",
        "print(test_frq)\n",
        "\n",
        "fig, axes = plt.subplots(1,3, figsize=(20,5))\n",
        "\n",
        "train_frq.plot(x='Language', y=['AGAINST','FAVOR','NEUTRAL'], kind='bar', ax=axes[0], title='Training Set - French', ylabel='Number of Tweets')\n",
        "val_frq.plot(x='Language', y=['AGAINST','FAVOR','NEUTRAL'], kind='bar', ax=axes[1], title='Validation Set - French', ylabel='Number of Tweets')\n",
        "test_frq.plot(x=\"Language\", y=[\"AGAINST\", \"FAVOR\",'NEUTRAL'], kind=\"bar\", ax=axes[2], title='Test Set - French', ylabel='Number of Tweets')"
      ],
      "metadata": {
        "colab": {
          "base_uri": "https://localhost:8080/",
          "height": 589
        },
        "id": "cbVA_IZBU3F6",
        "outputId": "4c6bbf5a-6073-480d-ed4c-83276dc7100a"
      },
      "execution_count": null,
      "outputs": [
        {
          "output_type": "stream",
          "name": "stdout",
          "text": [
            "total number of records 668\n",
            "Stance bifurcation Counter({'AGAINST': 464, 'NEUTRAL': 111, 'FAVOR': 93})\n",
            "  Language  AGAINST  FAVOR  NEUTRAL\n",
            "0       FR      464     93      111\n",
            "total number of records 223\n",
            "Stance bifurcation Counter({'AGAINST': 155, 'NEUTRAL': 37, 'FAVOR': 31})\n",
            "  Language  AGAINST  FAVOR  NEUTRAL\n",
            "0       FR      155     31       37\n",
            "total number of records 225\n",
            "Stance bifurcation Counter({'AGAINST': 155, 'NEUTRAL': 38, 'FAVOR': 32})\n",
            "  Language  AGAINST  FAVOR  NEUTRAL\n",
            "0       FR      155     32       38\n"
          ]
        },
        {
          "output_type": "execute_result",
          "data": {
            "text/plain": [
              "<matplotlib.axes._subplots.AxesSubplot at 0x7f6ab923d290>"
            ]
          },
          "metadata": {},
          "execution_count": 39
        },
        {
          "output_type": "display_data",
          "data": {
            "text/plain": [
              "<Figure size 1440x360 with 3 Axes>"
            ],
            "image/png": "[encoded data removed]"
          },
          "metadata": {
            "needs_background": "light"
          }
        }
      ]
    },
    {
      "cell_type": "code",
      "source": [
        "print('total number of records', len(train_it))\n",
        "train_label = collections.Counter(train_it['Stance'])\n",
        "print('Stance bifurcation', train_label)\n",
        "\n",
        "train_frq = train_it.groupby(['Language','Stance']).size().reset_index()\n",
        "train_frq=train_frq.rename(columns={0:'Count'})\n",
        "\n",
        "train_frq= pd.pivot_table(data=train_frq , index=['Language'], columns=['Stance'],values=['Count'])\n",
        "train_frq.reset_index(inplace=True)\n",
        "train_frq.columns =['Language','AGAINST','FAVOR','NEUTRAL']\n",
        "print(train_frq)\n",
        "\n",
        "print('total number of records', len(val_it))\n",
        "val_label = collections.Counter(val_it['Stance'])\n",
        "print('Stance bifurcation', val_label)\n",
        "\n",
        "val_frq = val_it.groupby(['Language','Stance']).size().reset_index()\n",
        "val_frq=val_frq.rename(columns={0:'Count'})\n",
        "\n",
        "val_frq= pd.pivot_table(data=val_frq , index=['Language'], columns=['Stance'],values=['Count'])\n",
        "val_frq.reset_index(inplace=True)\n",
        "val_frq.columns =['Language','AGAINST','FAVOR','NEUTRAL']\n",
        "print(val_frq)\n",
        "\n",
        "print('total number of records', len(test_it))\n",
        "test_label = collections.Counter(test_it['Stance'])\n",
        "print('Stance bifurcation', test_label)\n",
        "\n",
        "test_frq = test_it.groupby(['Language','Stance']).size().reset_index()\n",
        "test_frq=test_frq.rename(columns={0:'Count'})\n",
        "\n",
        "test_frq= pd.pivot_table(data=test_frq , index=['Language'], columns=['Stance'],values=['Count'])\n",
        "test_frq.reset_index(inplace=True)\n",
        "test_frq.columns =['Language','AGAINST','FAVOR','NEUTRAL']\n",
        "print(test_frq)\n",
        "\n",
        "fig, axes = plt.subplots(1,3, figsize=(20,5))\n",
        "\n",
        "train_frq.plot(x='Language', y=['AGAINST','FAVOR','NEUTRAL'], kind='bar', ax=axes[0], title='Training Set - Italian', ylabel='Number of Tweets')\n",
        "val_frq.plot(x='Language', y=['AGAINST','FAVOR','NEUTRAL'], kind='bar', ax=axes[1], title='Validation Set - Italian', ylabel='Number of Tweets')\n",
        "test_frq.plot(x=\"Language\", y=[\"AGAINST\", \"FAVOR\",'NEUTRAL'], kind=\"bar\", ax=axes[2], title='Test Set - Italian', ylabel='Number of Tweets')"
      ],
      "metadata": {
        "colab": {
          "base_uri": "https://localhost:8080/",
          "height": 586
        },
        "id": "jYYRiJmYVALf",
        "outputId": "e1e5e659-8ce4-4589-ff15-0efb622ea247"
      },
      "execution_count": null,
      "outputs": [
        {
          "output_type": "stream",
          "name": "stdout",
          "text": [
            "total number of records 498\n",
            "Stance bifurcation Counter({'AGAINST': 291, 'NEUTRAL': 110, 'FAVOR': 97})\n",
            "  Language  AGAINST  FAVOR  NEUTRAL\n",
            "0       IT      291     97      110\n",
            "total number of records 167\n",
            "Stance bifurcation Counter({'AGAINST': 97, 'NEUTRAL': 37, 'FAVOR': 33})\n",
            "  Language  AGAINST  FAVOR  NEUTRAL\n",
            "0       IT       97     33       37\n",
            "total number of records 168\n",
            "Stance bifurcation Counter({'AGAINST': 98, 'NEUTRAL': 37, 'FAVOR': 33})\n",
            "  Language  AGAINST  FAVOR  NEUTRAL\n",
            "0       IT       98     33       37\n"
          ]
        },
        {
          "output_type": "execute_result",
          "data": {
            "text/plain": [
              "<matplotlib.axes._subplots.AxesSubplot at 0x7f6ab7df8c10>"
            ]
          },
          "metadata": {},
          "execution_count": 40
        },
        {
          "output_type": "display_data",
          "data": {
            "text/plain": [
              "<Figure size 1440x360 with 3 Axes>"
            ],
            "image/png": "[encoded data removed]"
          },
          "metadata": {
            "needs_background": "light"
          }
        }
      ]
    },
    {
      "cell_type": "code",
      "execution_count": null,
      "metadata": {
        "colab": {
          "base_uri": "https://localhost:8080/",
          "height": 367
        },
        "id": "IleM5Lu0xG9T",
        "outputId": "08b020f8-779f-4de3-fa6d-b902e4168284"
      },
      "outputs": [
        {
          "output_type": "execute_result",
          "data": {
            "text/plain": [
              "<matplotlib.axes._subplots.AxesSubplot at 0x7f6ab7cc48d0>"
            ]
          },
          "metadata": {},
          "execution_count": 41
        },
        {
          "output_type": "display_data",
          "data": {
            "text/plain": [
              "<Figure size 1440x360 with 3 Axes>"
            ],
            "image/png": "[encoded data removed]"
          },
          "metadata": {
            "needs_background": "light"
          }
        }
      ],
      "source": [
        "fig, axes = plt.subplots(1,3, figsize=(20,5))\n",
        "\n",
        "train_frq.plot(x='Language', y=['AGAINST','FAVOR','NEUTRAL'], kind='bar', ax=axes[0], title='Training Set', ylabel='Number of Tweets')\n",
        "val_frq.plot(x='Language', y=['AGAINST','FAVOR','NEUTRAL'], kind='bar', ax=axes[1], title='Validation Set', ylabel='Number of Tweets')\n",
        "test_frq.plot(x=\"Language\", y=[\"AGAINST\", \"FAVOR\",'NEUTRAL'], kind=\"bar\", ax=axes[2], title='Test Set', ylabel='Number of Tweets')"
      ]
    }
  ],
  "metadata": {
    "accelerator": "GPU",
    "colab": {
      "collapsed_sections": [],
      "name": "data_preprocessing.ipynb",
      "provenance": []
    },
    "gpuClass": "standard",
    "kernelspec": {
      "display_name": "Python 3",
      "name": "python3"
    },
    "language_info": {
      "name": "python"
    }
  },
  "nbformat": 4,
  "nbformat_minor": 0
}