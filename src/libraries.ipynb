{
  "cells": [
    {
      "cell_type": "code",
      "source": [
        "!pip install git+https://github.com/huggingface/transformers\n",
        "!pip install tweet-preprocessor\n",
        "!pip install datasets \n",
        "!pip install tensorflow_text\n",
        "!pip install sacremoses"
      ],
      "metadata": {
        "id": "dlrp7BXJWYqK"
      },
      "execution_count": null,
      "outputs": []
    },
    {
      "cell_type": "code",
      "source": [
        "import torch\n",
        "import torch.nn.functional as F\n",
        "import transformers\n",
        "from datasets import load_dataset,load_metric\n",
        "from datasets import ClassLabel, Value\n",
        "from torch.utils.data import Dataset, TensorDataset, RandomSampler, DataLoader\n",
        "from transformers import AutoTokenizer,AutoModelForSequenceClassification,BertForSequenceClassification,BertTokenizer\n",
        "from sklearn.metrics import classification_report,confusion_matrix, accuracy_score, precision_score, recall_score, ConfusionMatrixDisplay,f1_score,RocCurveDisplay,roc_curve\n",
        "from sklearn.model_selection import train_test_split\n",
        "from sklearn.model_selection import GridSearchCV\n",
        "from sklearn.utils import shuffle\n",
        "from sklearn.svm import SVC\n",
        "from sklearn.linear_model import LogisticRegression\n",
        "from sklearn import model_selection\n",
        "from sklearn.feature_extraction.text import TfidfTransformer, TfidfVectorizer\n",
        "from sklearn.pipeline import Pipeline\n",
        "from sklearn.base import BaseEstimator, TransformerMixin\n",
        "import preprocessor as p\n",
        "from matplotlib import pyplot as plt\n",
        "from tqdm import tqdm\n",
        "\n",
        "import numpy as np\n",
        "import pandas as pd\n",
        "import collections\n",
        "import seaborn as sns\n",
        "import tensorflow as tf\n",
        "import tensorflow_hub as hub\n",
        "import pandas as pd\n",
        "import re\n",
        "import random\n",
        "from pprint import pprint\n",
        "#from time import time\n",
        "import time\n",
        "import warnings\n",
        "warnings.filterwarnings('ignore')\n",
        "import nltk\n",
        "import tensorflow_text\n",
        "import datetime\n"
      ],
      "metadata": {
        "id": "qh2TalMyRRxM"
      },
      "execution_count": 59,
      "outputs": []
    }
  ],
  "metadata": {
    "accelerator": "GPU",
    "colab": {
      "collapsed_sections": [],
      "name": "libraries.ipynb",
      "provenance": []
    },
    "gpuClass": "standard",
    "kernelspec": {
      "display_name": "Python 3",
      "name": "python3"
    },
    "language_info": {
      "name": "python"
    }
  },
  "nbformat": 4,
  "nbformat_minor": 0
}