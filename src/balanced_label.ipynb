{
  "cells": [
    {
      "cell_type": "markdown",
      "source": [
        "# Balancing the labels in Training Set\n",
        "\n"
      ],
      "metadata": {
        "id": "Op5l-17ee_kI"
      }
    },
    {
      "cell_type": "code",
      "source": [
        "%run src/libraries.ipynb\n",
        "%run src/data_preprocessing.ipynb.ipynb\n",
        "%run src/utilities.ipynb"
      ],
      "metadata": {
        "id": "dlrp7BXJWYqK"
      },
      "execution_count": null,
      "outputs": []
    },
    {
      "cell_type": "code",
      "source": [
        "#balancing training set\n",
        "train_set = train_sp.loc[(train_sp['Stance']=='AGAINST')].head(729)\n",
        "train_set = train_set.append(train_sp.loc[(train_sp['Stance']=='NEUTRAL') ].head(729))\n",
        "train_set = train_set.append(train_sp.loc[(train_sp['Stance']=='FAVOR')].head(729))\n",
        "train_sp = train_set\n",
        "\n",
        "train_set = train_en.loc[(train_en['Stance']=='AGAINST')].head(186)\n",
        "train_set = train_set.append(train_en.loc[(train_en['Stance']=='NEUTRAL') ].head(186))\n",
        "train_set = train_set.append(train_en.loc[(train_en['Stance']=='FAVOR')].head(186))\n",
        "train_en = train_set\n",
        "\n",
        "train_set = train_it.loc[(train_it['Stance']=='AGAINST')].head(97)\n",
        "train_set = train_set.append(train_it.loc[(train_it['Stance']=='NEUTRAL') ].head(97))\n",
        "train_set = train_set.append(train_it.loc[(train_it['Stance']=='FAVOR')].head(97))\n",
        "train_it = train_set\n",
        "\n",
        "train_set = train_ca.loc[(train_ca['Stance']=='AGAINST')].head(89)\n",
        "train_set = train_set.append(train_ca.loc[(train_ca['Stance']=='NEUTRAL') ].head(89))\n",
        "train_set = train_set.append(train_ca.loc[(train_ca['Stance']=='FAVOR')].head(89))\n",
        "train_ca = train_set\n",
        "\n",
        "train_set = train_fr.loc[(train_fr['Stance']=='AGAINST')].head(93)\n",
        "train_set = train_set.append(train_fr.loc[(train_fr['Stance']=='NEUTRAL') ].head(93))\n",
        "train_set = train_set.append(train_fr.loc[(train_fr['Stance']=='FAVOR')].head(93))\n",
        "train_fr = train_set"
      ],
      "metadata": {
        "id": "4ZKCL79HvJbi"
      },
      "execution_count": null,
      "outputs": []
    },
    {
      "cell_type": "code",
      "source": [
        "#train = train.sample(frac=1).reset_index(drop=True)\n",
        "#train_set = train.loc[(train['Stance']=='AGAINST')].head(1617)\n",
        "#train_set = train_set.append(train.loc[(train['Stance']=='NEUTRAL') ].head(1617))\n",
        "#train_set = train_set.append(train.loc[(train['Stance']=='FAVOR')].head(1617))\n",
        "#train = train_set"
      ],
      "metadata": {
        "id": "yBdZskKevMGY"
      },
      "execution_count": null,
      "outputs": []
    },
    {
      "cell_type": "code",
      "source": [
        "frame = [train_fr,train_it,train_ca,train_sp,train_en]\n",
        "train = pd.concat(frame)"
      ],
      "metadata": {
        "id": "LOxzoyxMu9Gm"
      },
      "execution_count": null,
      "outputs": []
    }
  ],
  "metadata": {
    "accelerator": "GPU",
    "colab": {
      "collapsed_sections": [],
      "provenance": []
    },
    "gpuClass": "standard",
    "kernelspec": {
      "display_name": "Python 3",
      "name": "python3"
    },
    "language_info": {
      "name": "python"
    }
  },
  "nbformat": 4,
  "nbformat_minor": 0
}