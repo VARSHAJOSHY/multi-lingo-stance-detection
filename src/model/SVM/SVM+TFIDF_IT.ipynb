{
  "cells": [
    {
      "cell_type": "markdown",
      "source": [
        "# SVM with TF-IDF Vectorization on Italian Data\n",
        "\n"
      ],
      "metadata": {
        "id": "Op5l-17ee_kI"
      }
    },
    {
      "cell_type": "code",
      "source": [
        "from time import time"
      ],
      "metadata": {
        "id": "dlrp7BXJWYqK"
      },
      "execution_count": null,
      "outputs": []
    },
    {
      "cell_type": "markdown",
      "source": [
        "# Data Cleaning/Preprocessing"
      ],
      "metadata": {
        "id": "tgdftckLbCSy"
      }
    },
    {
      "cell_type": "code",
      "source": [
        "train_it.Tweet = train_it.Tweet.apply(clean,lang='IT')\n",
        "val_it.Tweet = val_it.Tweet.apply(clean,lang='IT')\n",
        "test_it.Tweet = test_it.Tweet.apply(clean,lang='IT')\n",
        "\n",
        "X_train, y_train =  train_it['Tweet'],train_it['Stance']\n",
        "X_val, y_val =  val_it['Tweet'],val_it['Stance']\n",
        "X_test, y_test =  test_it['Tweet'],test_it['Stance']"
      ],
      "metadata": {
        "id": "qh2TalMyRRxM"
      },
      "execution_count": null,
      "outputs": []
    },
    {
      "cell_type": "markdown",
      "source": [
        "# TF-IDF Vectorization"
      ],
      "metadata": {
        "id": "Zb2Y7HunbFlY"
      }
    },
    {
      "cell_type": "code",
      "source": [
        "svc_prediction_pipeline = Pipeline([\n",
        "              ('selector', ItemSelector(key='Tweet')),\n",
        "              ('tf-idf', TfidfVectorizer()),\n",
        "              ('svc', SVC(random_state=1,kernel='rbf',max_iter=1000))\n",
        "              ])\n",
        "svc_pipeline_tuned = Pipeline([\n",
        "              ('selector', ItemSelector(key='Tweet')),\n",
        "              ('tf-idf', TfidfVectorizer()),\n",
        "              ])\n",
        "\n",
        "svc_parameters = {\n",
        "    \"svc__C\": [ 0.0001, 0.001, 0.01, 0.1, 1, 10, 100],\n",
        "    \"svc__gamma\": [1,0.1,0.01,0.001,0.0001]\n",
        "}"
      ],
      "metadata": {
        "colab": {
          "base_uri": "https://localhost:8080/"
        },
        "id": "fcShRMo0W-Xk",
        "outputId": "7dc902b3-91df-47f7-e52c-9cc3517487ea"
      },
      "execution_count": null,
      "outputs": [
        {
          "output_type": "stream",
          "name": "stderr",
          "text": [
            "100%|██████████| 8292/8292 [02:38<00:00, 52.29it/s]\n",
            "100%|██████████| 2768/2768 [00:50<00:00, 55.27it/s]\n",
            "100%|██████████| 2774/2774 [00:51<00:00, 54.27it/s]\n"
          ]
        }
      ]
    },
    {
      "cell_type": "markdown",
      "source": [
        "# Hyperparameter Tuning using GridSearch"
      ],
      "metadata": {
        "id": "oPrveK5GbNtE"
      }
    },
    {
      "cell_type": "code",
      "source": [
        "# grid serach for hyperparamter tuning - ignore this part if parameter tuning is not required\n",
        "#gridsearch(svc_prediction_pipeline,svc_parameters,train_it,y_train)"
      ],
      "metadata": {
        "id": "6LGnli4-ayos"
      },
      "execution_count": null,
      "outputs": []
    },
    {
      "cell_type": "markdown",
      "source": [
        "# Training and Validation"
      ],
      "metadata": {
        "id": "VyjCsuTDbTHI"
      }
    },
    {
      "cell_type": "code",
      "source": [
        "#SVC with Countvectorization. Passing tuned paramters. \n",
        "count_train_tuned = svc_pipeline_tuned.fit_transform(train_it)\n",
        "count_validation_tuned = svc_pipeline_tuned.transform(val_it)\n",
        "count_test_tuned = svc_pipeline_tuned.transform(test_it)\n",
        "\n",
        "svc_model = SVC(random_state=1, C=input_C, gamma=input_gamma,kernel='rbf',max_iter=1000)\n",
        "tr_tuned_model = svc_model.fit(count_train_tuned,y_train)\n",
        "\n",
        "#validation set\n",
        "svc_tuned_val = svc_model.predict(count_validation_tuned)\n",
        "evaluation_summary(\"Italian : SVC with TfidfVectorizer: Validation set\", y_val, svc_tuned_val , dataset['labels'])\n",
        "ConfusionMatrixDisplay.from_predictions(y_val,svc_tuned_val,xticks_rotation='vertical')"
      ],
      "metadata": {
        "colab": {
          "base_uri": "https://localhost:8080/",
          "height": 534
        },
        "id": "CE_8bSkrXGMU",
        "outputId": "21044306-5c02-4877-d0ce-2261ddbd9999"
      },
      "execution_count": null,
      "outputs": [
        {
          "output_type": "stream",
          "name": "stdout",
          "text": [
            "Evaluation for: LR with Multilingual Encoding : Validation\n",
            "              precision    recall  f1-score   support\n",
            "\n",
            "     AGAINST      0.646     0.681     0.663       901\n",
            "       FAVOR      0.749     0.785     0.766      1327\n",
            "     NEUTRAL      0.695     0.548     0.613       540\n",
            "\n",
            "    accuracy                          0.705      2768\n",
            "   macro avg      0.697     0.672     0.681      2768\n",
            "weighted avg      0.705     0.705     0.703      2768\n",
            "\n"
          ]
        },
        {
          "output_type": "execute_result",
          "data": {
            "text/plain": [
              "<sklearn.metrics._plot.confusion_matrix.ConfusionMatrixDisplay at 0x7f6a1e4390d0>"
            ]
          },
          "metadata": {},
          "execution_count": 83
        },
        {
          "output_type": "display_data",
          "data": {
            "text/plain": [
              "<Figure size 432x288 with 2 Axes>"
            ],
            "image/png": "[encoded data removed]"
          },
          "metadata": {
            "needs_background": "light"
          }
        }
      ]
    },
    {
      "cell_type": "markdown",
      "source": [
        "# Prediction on Test Set"
      ],
      "metadata": {
        "id": "VzYSlJRCbWiA"
      }
    },
    {
      "cell_type": "code",
      "source": [
        "predictions = svc_model.predict(count_test_tuned)\n",
        "evaluation_summary(\"Italian : SVC with TfidfVectorizer: Test set\", y_test, predictions , dataset['labels'])\n",
        "ConfusionMatrixDisplay.from_predictions(y_test,predictions,xticks_rotation='vertical')"
      ],
      "metadata": {
        "colab": {
          "base_uri": "https://localhost:8080/",
          "height": 535
        },
        "id": "H66kg7llawjg",
        "outputId": "f58d7b88-2698-4bdc-deaa-2845eb00cf4c"
      },
      "execution_count": null,
      "outputs": [
        {
          "output_type": "stream",
          "name": "stdout",
          "text": [
            "Evaluation for: LR with Multilingual Encoding : Test\n",
            "              precision    recall  f1-score   support\n",
            "\n",
            "     AGAINST      0.628     0.692     0.659       903\n",
            "       FAVOR      0.736     0.763     0.749      1329\n",
            "     NEUTRAL      0.667     0.494     0.568       542\n",
            "\n",
            "    accuracy                          0.687      2774\n",
            "   macro avg      0.677     0.650     0.659      2774\n",
            "weighted avg      0.688     0.687     0.684      2774\n",
            "\n"
          ]
        },
        {
          "output_type": "execute_result",
          "data": {
            "text/plain": [
              "<sklearn.metrics._plot.confusion_matrix.ConfusionMatrixDisplay at 0x7f6a1e1e3890>"
            ]
          },
          "metadata": {},
          "execution_count": 81
        },
        {
          "output_type": "display_data",
          "data": {
            "text/plain": [
              "<Figure size 432x288 with 2 Axes>"
            ],
            "image/png": "[encoded data removed]"
          },
          "metadata": {
            "needs_background": "light"
          }
        }
      ]
    },
    {
      "cell_type": "code",
      "source": [
        "f1score(y_test, predictions)"
      ],
      "metadata": {
        "colab": {
          "base_uri": "https://localhost:8080/"
        },
        "id": "P2ihC8SvYUog",
        "outputId": "e2759cac-a922-4949-899d-0930c64bbf24"
      },
      "execution_count": null,
      "outputs": [
        {
          "output_type": "stream",
          "name": "stdout",
          "text": [
            "Micro Average Precision :  0.7051189617880317\n",
            "Micro Average Recall :  0.7051189617880317\n",
            "Micro Average F1-Score :  0.7051189617880317\n",
            "............................\n",
            "Macro Average Precision :  0.6951158383571525\n",
            "Macro Average Recall :  0.6864330641686535\n",
            "Macro Average F1-Score :  0.6897175200240867\n"
          ]
        }
      ]
    },
    {
      "cell_type": "code",
      "source": [],
      "metadata": {
        "id": "F5B3DJbxanj2"
      },
      "execution_count": null,
      "outputs": []
    }
  ],
  "metadata": {
    "accelerator": "GPU",
    "colab": {
      "collapsed_sections": [],
      "name": "SVM+TFIDF_IT.ipynb",
      "provenance": []
    },
    "gpuClass": "standard",
    "kernelspec": {
      "display_name": "Python 3",
      "name": "python3"
    },
    "language_info": {
      "name": "python"
    }
  },
  "nbformat": 4,
  "nbformat_minor": 0
}