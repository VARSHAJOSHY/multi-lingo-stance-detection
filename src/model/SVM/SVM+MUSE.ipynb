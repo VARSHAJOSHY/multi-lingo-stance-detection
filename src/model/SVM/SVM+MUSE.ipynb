{
  "cells": [
    {
      "cell_type": "code",
      "source": [
        "from time import time"
      ],
      "metadata": {
        "id": "dlrp7BXJWYqK"
      },
      "execution_count": null,
      "outputs": []
    },
    {
      "cell_type": "markdown",
      "source": [
        "# Data Cleaning/Preprocessing"
      ],
      "metadata": {
        "id": "tgdftckLbCSy"
      }
    },
    {
      "cell_type": "code",
      "source": [
        "train['Tweet'] = train.apply(clean_mul, axis=1)\n",
        "val['Tweet'] = val.apply(clean_mul, axis=1)\n",
        "test['Tweet'] = test.apply(clean_mul, axis=1)"
      ],
      "metadata": {
        "id": "qh2TalMyRRxM"
      },
      "execution_count": null,
      "outputs": []
    },
    {
      "cell_type": "markdown",
      "source": [
        "# Text Encoding using Multingual Universal Sentence Encoder"
      ],
      "metadata": {
        "id": "Zb2Y7HunbFlY"
      }
    },
    {
      "cell_type": "code",
      "source": [
        "X_train,y_train,X_val,y_val,X_test,y_test = MUSE (train,val,test)"
      ],
      "metadata": {
        "colab": {
          "base_uri": "https://localhost:8080/"
        },
        "id": "fcShRMo0W-Xk",
        "outputId": "7dc902b3-91df-47f7-e52c-9cc3517487ea"
      },
      "execution_count": null,
      "outputs": [
        {
          "output_type": "stream",
          "name": "stderr",
          "text": [
            "100%|██████████| 8292/8292 [02:38<00:00, 52.29it/s]\n",
            "100%|██████████| 2768/2768 [00:50<00:00, 55.27it/s]\n",
            "100%|██████████| 2774/2774 [00:51<00:00, 54.27it/s]\n"
          ]
        }
      ]
    },
    {
      "cell_type": "markdown",
      "source": [
        "# Hyperparameter Tuning using GridSearch"
      ],
      "metadata": {
        "id": "oPrveK5GbNtE"
      }
    },
    {
      "cell_type": "code",
      "source": [
        "# grid serach for hyperparamter tuning - ignore this part if parameter tuning is not required\n",
        "#param_grid = {'C': [0.0001,0.001, 0.01, 0.1, 1, 10, 100], 'gamma': [1,0.1,0.01,0.001,0.0001]}\n",
        "#grid = GridSearchCV(SVC(random_state=1,kernel='rbf',max_iter=1000),param_grid,refit=True,verbose=2, cv=5)\n",
        "#grid.fit(X_train,y_train)\n",
        "\n",
        "#print(grid.best_estimator_)"
      ],
      "metadata": {
        "id": "6LGnli4-ayos"
      },
      "execution_count": null,
      "outputs": []
    },
    {
      "cell_type": "markdown",
      "source": [
        "# Training and Validation"
      ],
      "metadata": {
        "id": "VyjCsuTDbTHI"
      }
    },
    {
      "cell_type": "code",
      "source": [
        "def svc_param_selection(X, y, nfolds):\n",
        "    Cs = [input_C]\n",
        "    gammas = [input_gamma]\n",
        "    kernel='rbf'\n",
        "    param_grid = {'C': Cs, 'gamma' : gammas}\n",
        "    grid_search = GridSearchCV(SVC(kernel=kernel,random_state=1,max_iter=1000), param_grid, cv=nfolds, n_jobs=8)\n",
        "    grid_search.fit(X, y)\n",
        "    grid_search.best_params_\n",
        "    return grid_search\n",
        "\n",
        "model = svc_param_selection(X_train,y_train, 5)\n",
        "svc_predicted_val = model.predict(X_val)\n",
        "evaluation_summary(\"SVC Classifier with Multilingual Encoding : Validation\", y_val, svc_predicted_val,  dataset['labels'])\n",
        "ConfusionMatrixDisplay.from_predictions(y_val,svc_predicted_val,xticks_rotation='vertical')"
      ],
      "metadata": {
        "colab": {
          "base_uri": "https://localhost:8080/",
          "height": 1000
        },
        "id": "CE_8bSkrXGMU",
        "outputId": "5ac6bd27-b462-4e4f-ca87-c3ae7edb5a6d"
      },
      "execution_count": null,
      "outputs": [
        {
          "output_type": "stream",
          "name": "stdout",
          "text": [
            "Evaluation for: SVC Classifier with Multilingual Encoding : Validation\n",
            "              precision    recall  f1-score   support\n",
            "\n",
            "     AGAINST      0.645     0.694     0.668       901\n",
            "       FAVOR      0.782     0.775     0.779      1327\n",
            "     NEUTRAL      0.692     0.619     0.653       540\n",
            "\n",
            "    accuracy                          0.718      2768\n",
            "   macro avg      0.706     0.696     0.700      2768\n",
            "weighted avg      0.720     0.718     0.718      2768\n",
            "\n",
            "Evaluation for: SVC Classifier with Multilingual Encoding : Test\n",
            "              precision    recall  f1-score   support\n",
            "\n",
            "     AGAINST      0.632     0.691     0.660       903\n",
            "       FAVOR      0.769     0.750     0.759      1329\n",
            "     NEUTRAL      0.685     0.618     0.650       542\n",
            "\n",
            "    accuracy                          0.705      2774\n",
            "   macro avg      0.695     0.686     0.690      2774\n",
            "weighted avg      0.708     0.705     0.706      2774\n",
            "\n"
          ]
        },
        {
          "output_type": "execute_result",
          "data": {
            "text/plain": [
              "<sklearn.metrics._plot.confusion_matrix.ConfusionMatrixDisplay at 0x7f6a1e438a10>"
            ]
          },
          "metadata": {},
          "execution_count": 78
        },
        {
          "output_type": "display_data",
          "data": {
            "text/plain": [
              "<Figure size 432x288 with 2 Axes>"
            ],
            "image/png": "[encoded data removed]"
          },
          "metadata": {
            "needs_background": "light"
          }
        },
        {
          "output_type": "display_data",
          "data": {
            "text/plain": [
              "<Figure size 432x288 with 2 Axes>"
            ],
            "image/png": "[encoded data removed]"
          },
          "metadata": {
            "needs_background": "light"
          }
        }
      ]
    },
    {
      "cell_type": "markdown",
      "source": [
        "# Prediction on Test Set"
      ],
      "metadata": {
        "id": "VzYSlJRCbWiA"
      }
    },
    {
      "cell_type": "code",
      "source": [
        "svc_predicted_test = model.predict(X_test)\n",
        "evaluation_summary(\"SVC Classifier with Multilingual Encoding : Test\", y_test, svc_predicted_test,  dataset['labels'])\n",
        "ConfusionMatrixDisplay.from_predictions(y_test,svc_predicted_test,xticks_rotation='vertical')"
      ],
      "metadata": {
        "id": "H66kg7llawjg"
      },
      "execution_count": null,
      "outputs": []
    },
    {
      "cell_type": "code",
      "source": [
        "f1score(y_test, svc_predicted_test)"
      ],
      "metadata": {
        "colab": {
          "base_uri": "https://localhost:8080/"
        },
        "id": "P2ihC8SvYUog",
        "outputId": "427fdefc-c757-4eed-dec9-96cdab9e8949"
      },
      "execution_count": null,
      "outputs": [
        {
          "output_type": "stream",
          "name": "stdout",
          "text": [
            "Micro Average Precision :  0.7051189617880317\n",
            "Micro Average Recall :  0.7051189617880317\n",
            "Micro Average F1-Score :  0.7051189617880317\n",
            "............................\n",
            "Macro Average Precision :  0.6951158383571525\n",
            "Macro Average Recall :  0.6864330641686535\n",
            "Macro Average F1-Score :  0.6897175200240867\n"
          ]
        }
      ]
    },
    {
      "cell_type": "code",
      "source": [],
      "metadata": {
        "id": "F5B3DJbxanj2"
      },
      "execution_count": null,
      "outputs": []
    }
  ],
  "metadata": {
    "accelerator": "GPU",
    "colab": {
      "collapsed_sections": [],
      "name": "SVM+MUSE.ipynb",
      "provenance": []
    },
    "gpuClass": "standard",
    "kernelspec": {
      "display_name": "Python 3",
      "name": "python3"
    },
    "language_info": {
      "name": "python"
    }
  },
  "nbformat": 4,
  "nbformat_minor": 0
}