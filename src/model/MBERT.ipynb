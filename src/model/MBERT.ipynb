{
  "cells": [
    {
      "cell_type": "markdown",
      "source": [
        "# M-BERT\n",
        "\n"
      ],
      "metadata": {
        "id": "Op5l-17ee_kI"
      }
    },
    {
      "cell_type": "code",
      "source": [
        "PRETRAINED_MODEL = 'bert-base-multilingual-cased'\n",
        "# Load the tokenizer.\n",
        "tokenizer = AutoTokenizer.from_pretrained(PRETRAINED_MODEL)\n",
        "# Load the model.\n",
        "model = AutoModelForSequenceClassification.from_pretrained(PRETRAINED_MODEL, num_labels = dataset['label_count'])"
      ],
      "metadata": {
        "id": "lJWsmkrdiV-P"
      },
      "execution_count": null,
      "outputs": []
    },
    {
      "cell_type": "markdown",
      "source": [
        "# Tokenization"
      ],
      "metadata": {
        "id": "tgdftckLbCSy"
      }
    },
    {
      "cell_type": "code",
      "source": [
        "#calculate max token count in training set\n",
        "tr_token_counts = []\n",
        "for row in train['Tweet']:\n",
        "  token_count = len(tokenizer.encode(\n",
        "    row,\n",
        "    max_length=1000,\n",
        "    truncation=True\n",
        "  ))\n",
        "  tr_token_counts.append(token_count)\n",
        "\n",
        "sns.histplot(tr_token_counts)\n",
        "plt.xlim([0, 200]);"
      ],
      "metadata": {
        "id": "qh2TalMyRRxM"
      },
      "execution_count": null,
      "outputs": []
    },
    {
      "cell_type": "code",
      "source": [
        "#calculate max token count in validation set\n",
        "val_token_counts = []\n",
        "for row in val['Tweet']:\n",
        "  token_count = len(tokenizer.encode(\n",
        "    row,\n",
        "    max_length=1000,\n",
        "    truncation=True\n",
        "  ))\n",
        "  val_token_counts.append(token_count)\n",
        "\n",
        "sns.histplot(val_token_counts)\n",
        "plt.xlim([0, 200]);"
      ],
      "metadata": {
        "id": "jUI4UqaGiZIO"
      },
      "execution_count": null,
      "outputs": []
    },
    {
      "cell_type": "code",
      "source": [
        "#calculate max token count in test set\n",
        "test_token_counts = []\n",
        "for row in test['Tweet']:\n",
        "  token_count = len(tokenizer.encode(\n",
        "    row,\n",
        "    max_length=1000,\n",
        "    truncation=True\n",
        "  ))\n",
        "  test_token_counts.append(token_count)\n",
        "\n",
        "sns.histplot(test_token_counts)\n",
        "plt.xlim([0, 200]);"
      ],
      "metadata": {
        "id": "TS9_QuZViZQR"
      },
      "execution_count": null,
      "outputs": []
    },
    {
      "cell_type": "code",
      "source": [
        "#set parameters\n",
        "TRAIN_MAX_TOKEN_LEN = 125\n",
        "VAL_MAX_TOKEN_LEN = 125\n",
        "TEST_MAX_TOKEN_LEN = 125"
      ],
      "metadata": {
        "id": "v51_P7OriZTU"
      },
      "execution_count": null,
      "outputs": []
    },
    {
      "cell_type": "markdown",
      "source": [
        "# Training and Validation"
      ],
      "metadata": {
        "id": "Zb2Y7HunbFlY"
      }
    },
    {
      "cell_type": "code",
      "source": [
        "train_loader = get_batches(train, tokenizer, TRAIN_MAX_TOKEN_LEN,per_gpu_train_batch_size)\n",
        "val_loader = get_batches(val, tokenizer, VAL_MAX_TOKEN_LEN,per_gpu_eval_batch_size)\n",
        "model = build_model(PRETRAINED_MODEL, dataset['label_count'])\n",
        "optimizer = build_optimizer(model, opt , learning_rate, epsilon,weight_decay)\n",
        "scheduler = build_scheduler(model, optimizer, epochs, len(train_loader))\n",
        "\n",
        "train_loss_arr,val_loss,val_accuracy,training_stats,early_stopped_model = train_model(train_loader,val_loader,model,optimizer,scheduler,epochs, device,max_grad_norm)"
      ],
      "metadata": {
        "colab": {
          "base_uri": "https://localhost:8080/"
        },
        "id": "fcShRMo0W-Xk",
        "outputId": "7dc902b3-91df-47f7-e52c-9cc3517487ea"
      },
      "execution_count": null,
      "outputs": [
        {
          "output_type": "stream",
          "name": "stderr",
          "text": [
            "100%|██████████| 8292/8292 [02:38<00:00, 52.29it/s]\n",
            "100%|██████████| 2768/2768 [00:50<00:00, 55.27it/s]\n",
            "100%|██████████| 2774/2774 [00:51<00:00, 54.27it/s]\n"
          ]
        }
      ]
    },
    {
      "cell_type": "code",
      "source": [
        "plotEarlyStopCheckpoint(train_loss_arr,val_loss,'/content/src/img/earlystop_mbert.png')\n",
        "lossCurve(train_loss_arr,val_loss,'/content/src/img/lossplot_mbert.png')\n",
        "accuracyCurve(train_loss_arr,val_accuracy,'/content/src/img/accplot_mbert.png')\n",
        "timer(training_stats)"
      ],
      "metadata": {
        "id": "yEekNHi2jyOA"
      },
      "execution_count": null,
      "outputs": []
    },
    {
      "cell_type": "markdown",
      "source": [
        "# Prediction on Test Set"
      ],
      "metadata": {
        "id": "VzYSlJRCbWiA"
      }
    },
    {
      "cell_type": "code",
      "source": [
        "test_loader = get_batches(test, tokenizer, TEST_MAX_TOKEN_LEN,per_gpu_eval_batch_size)\n",
        "\n",
        "input_ids, predictions, true_labels, attentions = prediction(test_loader, model, device)\n",
        "evaluation_summary(\"MBERT - Prediction\", true_labels, predictions,  dataset['labels'])\n",
        "ConfusionMatrixDisplay.from_predictions(true_labels, predictions,xticks_rotation='vertical')"
      ],
      "metadata": {
        "colab": {
          "base_uri": "https://localhost:8080/",
          "height": 535
        },
        "id": "H66kg7llawjg",
        "outputId": "f58d7b88-2698-4bdc-deaa-2845eb00cf4c"
      },
      "execution_count": null,
      "outputs": [
        {
          "output_type": "stream",
          "name": "stdout",
          "text": [
            "Evaluation for: LR with Multilingual Encoding : Test\n",
            "              precision    recall  f1-score   support\n",
            "\n",
            "     AGAINST      0.628     0.692     0.659       903\n",
            "       FAVOR      0.736     0.763     0.749      1329\n",
            "     NEUTRAL      0.667     0.494     0.568       542\n",
            "\n",
            "    accuracy                          0.687      2774\n",
            "   macro avg      0.677     0.650     0.659      2774\n",
            "weighted avg      0.688     0.687     0.684      2774\n",
            "\n"
          ]
        },
        {
          "output_type": "execute_result",
          "data": {
            "text/plain": [
              "<sklearn.metrics._plot.confusion_matrix.ConfusionMatrixDisplay at 0x7f6a1e1e3890>"
            ]
          },
          "metadata": {},
          "execution_count": 81
        },
        {
          "output_type": "display_data",
          "data": {
            "text/plain": [
              "<Figure size 432x288 with 2 Axes>"
            ],
            "image/png": "[encoded data removed]"
          },
          "metadata": {
            "needs_background": "light"
          }
        }
      ]
    },
    {
      "cell_type": "code",
      "source": [
        "f1score(true_labels, predictions)"
      ],
      "metadata": {
        "colab": {
          "base_uri": "https://localhost:8080/"
        },
        "id": "P2ihC8SvYUog",
        "outputId": "e2759cac-a922-4949-899d-0930c64bbf24"
      },
      "execution_count": null,
      "outputs": [
        {
          "output_type": "stream",
          "name": "stdout",
          "text": [
            "Micro Average Precision :  0.7051189617880317\n",
            "Micro Average Recall :  0.7051189617880317\n",
            "Micro Average F1-Score :  0.7051189617880317\n",
            "............................\n",
            "Macro Average Precision :  0.6951158383571525\n",
            "Macro Average Recall :  0.6864330641686535\n",
            "Macro Average F1-Score :  0.6897175200240867\n"
          ]
        }
      ]
    },
    {
      "cell_type": "code",
      "source": [
        "print(\"label: AGAINST\")\n",
        "roc(true_labels, predictions,0)\n",
        "print(\"label: FAVOR\")\n",
        "roc(true_labels, predictions,1)\n",
        "print(\"label: NEUTRAL\")\n",
        "roc(true_labels, predictions,2)"
      ],
      "metadata": {
        "id": "F5B3DJbxanj2"
      },
      "execution_count": null,
      "outputs": []
    }
  ],
  "metadata": {
    "accelerator": "GPU",
    "colab": {
      "collapsed_sections": [],
      "name": "MBERT.ipynb",
      "provenance": []
    },
    "gpuClass": "standard",
    "kernelspec": {
      "display_name": "Python 3",
      "name": "python3"
    },
    "language_info": {
      "name": "python"
    }
  },
  "nbformat": 4,
  "nbformat_minor": 0
}